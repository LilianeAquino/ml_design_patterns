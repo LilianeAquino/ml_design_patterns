{
 "cells": [
  {
   "cell_type": "markdown",
   "id": "7f6193b3",
   "metadata": {},
   "source": [
    "# Design Pattern 7: Ensembles\n",
    "\n",
    "> Refere-se a técnicas de aprendizado de máquina que combinam vários modelos de ML e agregam seus resultados para fazer previsões."
   ]
  },
  {
   "cell_type": "markdown",
   "id": "25575721",
   "metadata": {},
   "source": [
    "### Bibliotecas"
   ]
  },
  {
   "cell_type": "code",
   "execution_count": 1,
   "id": "a5631637",
   "metadata": {},
   "outputs": [],
   "source": [
    "import pandas as pd\n",
    "import numpy as np\n",
    "import warnings\n",
    "\n",
    "from sklearn.pipeline import Pipeline\n",
    "from sklearn.metrics import accuracy_score\n",
    "from sklearn.tree import DecisionTreeClassifier\n",
    "from sklearn.model_selection import train_test_split\n",
    "from sklearn.naive_bayes import MultinomialNB\n",
    "from sklearn.linear_model import LogisticRegression\n",
    "from sklearn.feature_extraction.text import CountVectorizer\n",
    "from sklearn.ensemble import RandomForestClassifier, BaggingClassifier, AdaBoostClassifier, StackingClassifier\n",
    "\n",
    "warnings.filterwarnings('ignore')"
   ]
  },
  {
   "cell_type": "markdown",
   "id": "9a67ee83",
   "metadata": {},
   "source": [
    "### Base de exemplo"
   ]
  },
  {
   "cell_type": "code",
   "execution_count": 2,
   "id": "e29b20d5",
   "metadata": {},
   "outputs": [
    {
     "name": "stdout",
     "output_type": "stream",
     "text": [
      "(1239, 3)\n"
     ]
    },
    {
     "data": {
      "text/html": [
       "<div>\n",
       "<style scoped>\n",
       "    .dataframe tbody tr th:only-of-type {\n",
       "        vertical-align: middle;\n",
       "    }\n",
       "\n",
       "    .dataframe tbody tr th {\n",
       "        vertical-align: top;\n",
       "    }\n",
       "\n",
       "    .dataframe thead th {\n",
       "        text-align: right;\n",
       "    }\n",
       "</style>\n",
       "<table border=\"1\" class=\"dataframe\">\n",
       "  <thead>\n",
       "    <tr style=\"text-align: right;\">\n",
       "      <th></th>\n",
       "      <th>Original_Book_Title</th>\n",
       "      <th>Book_Description</th>\n",
       "      <th>Genres</th>\n",
       "    </tr>\n",
       "  </thead>\n",
       "  <tbody>\n",
       "    <tr>\n",
       "      <th>0</th>\n",
       "      <td>I, Robot</td>\n",
       "      <td>Isaac Asimov's I, Robot launches readers on an...</td>\n",
       "      <td>{'Science Fiction': 6502, 'Fiction': 2523, 'Cl...</td>\n",
       "    </tr>\n",
       "  </tbody>\n",
       "</table>\n",
       "</div>"
      ],
      "text/plain": [
       "  Original_Book_Title                                   Book_Description  \\\n",
       "0            I, Robot  Isaac Asimov's I, Robot launches readers on an...   \n",
       "\n",
       "                                              Genres  \n",
       "0  {'Science Fiction': 6502, 'Fiction': 2523, 'Cl...  "
      ]
     },
     "execution_count": 2,
     "metadata": {},
     "output_type": "execute_result"
    }
   ],
   "source": [
    "df = pd.read_csv('data/sf_robots.csv', usecols=['Original_Book_Title', 'Book_Description', 'Genres']).dropna()\n",
    "print(df.shape)\n",
    "df.head(1)"
   ]
  },
  {
   "cell_type": "markdown",
   "id": "1459d7f1",
   "metadata": {},
   "source": [
    "#### Pré-processamento"
   ]
  },
  {
   "cell_type": "code",
   "execution_count": 3,
   "id": "d6978a0a",
   "metadata": {},
   "outputs": [],
   "source": [
    "def getGenres(genres: dict) -> str:\n",
    "    keys = list(genres.keys())\n",
    "    return keys[0]\n",
    "\n",
    "df['Genres'] = df['Genres'].apply(eval)\n",
    "df['Genres'] = df['Genres'].apply(getGenres)\n",
    "\n",
    "top_classes = df['Genres'].value_counts().head(3).index\n",
    "filtered_df = df[df['Genres'].apply(lambda x: any(genre in top_classes for genre in x.split(',')))]"
   ]
  },
  {
   "cell_type": "markdown",
   "id": "38094772",
   "metadata": {},
   "source": [
    "### Prepara a base"
   ]
  },
  {
   "cell_type": "code",
   "execution_count": 4,
   "id": "af10dfaa",
   "metadata": {},
   "outputs": [],
   "source": [
    "X_train, X_test, y_train, y_test = train_test_split(df['Book_Description'],\n",
    "                                                    df['Genres'],\n",
    "                                                    test_size=0.2,\n",
    "                                                    random_state=42)"
   ]
  },
  {
   "cell_type": "markdown",
   "id": "487fc61e",
   "metadata": {},
   "source": [
    "### Modelo simples"
   ]
  },
  {
   "cell_type": "code",
   "execution_count": 5,
   "id": "83482e14",
   "metadata": {},
   "outputs": [
    {
     "name": "stdout",
     "output_type": "stream",
     "text": [
      "Acurácia do modelo: 38.0%\n"
     ]
    }
   ],
   "source": [
    "pipeline = Pipeline([\n",
    "    ('countvectorizer', CountVectorizer()),\n",
    "    ('model', DecisionTreeClassifier(random_state=42))\n",
    "])\n",
    "\n",
    "pipeline.fit(X_train, y_train)\n",
    "\n",
    "predictions = pipeline.predict(X_test)\n",
    "accuracy = accuracy_score(y_test, predictions)\n",
    "print(f'Acurácia do modelo: {accuracy.round(2)*100}%')"
   ]
  },
  {
   "cell_type": "markdown",
   "id": "c807afb0",
   "metadata": {},
   "source": [
    "### Bagging"
   ]
  },
  {
   "cell_type": "code",
   "execution_count": 6,
   "id": "f4b7f71a",
   "metadata": {},
   "outputs": [
    {
     "name": "stdout",
     "output_type": "stream",
     "text": [
      "Acurácia do modelo de bagging: 48.0%\n"
     ]
    }
   ],
   "source": [
    "pipeline = Pipeline([\n",
    "    ('countvectorizer', CountVectorizer()),\n",
    "    ('bagging_model', BaggingClassifier(base_estimator=DecisionTreeClassifier(), n_estimators=10, random_state=42))\n",
    "])\n",
    "\n",
    "pipeline.fit(X_train, y_train)\n",
    "\n",
    "predictions = pipeline.predict(X_test)\n",
    "accuracy = accuracy_score(y_test, predictions)\n",
    "print(f'Acurácia do modelo de bagging: {accuracy.round(2)*100}%')"
   ]
  },
  {
   "cell_type": "markdown",
   "id": "9addca0c",
   "metadata": {},
   "source": [
    "### Boosting"
   ]
  },
  {
   "cell_type": "code",
   "execution_count": 7,
   "id": "9f0278d6",
   "metadata": {},
   "outputs": [
    {
     "name": "stdout",
     "output_type": "stream",
     "text": [
      "Acurácia do modelo de boosting: 33.0%\n"
     ]
    }
   ],
   "source": [
    "pipeline = Pipeline([\n",
    "    ('countvectorizer', CountVectorizer()),\n",
    "    ('boosting_model', AdaBoostClassifier(random_state=42))\n",
    "])\n",
    "\n",
    "pipeline.fit(X_train, y_train)\n",
    "\n",
    "predictions = pipeline.predict(X_test)\n",
    "accuracy = accuracy_score(y_test, predictions)\n",
    "print(f'Acurácia do modelo de boosting: {accuracy.round(2)*100}%')"
   ]
  },
  {
   "cell_type": "markdown",
   "id": "0177a186",
   "metadata": {},
   "source": [
    "### Stacking"
   ]
  },
  {
   "cell_type": "code",
   "execution_count": 8,
   "id": "84ba354f",
   "metadata": {
    "code_folding": []
   },
   "outputs": [
    {
     "name": "stdout",
     "output_type": "stream",
     "text": [
      "Acurácia do modelo de stacking: 60.0%\n"
     ]
    }
   ],
   "source": [
    "model_rf = RandomForestClassifier(random_state=42)\n",
    "model_lr = LogisticRegression(random_state=42)\n",
    "model_nb = MultinomialNB()\n",
    "\n",
    "pipeline = Pipeline([\n",
    "    ('countvectorizer', CountVectorizer()),\n",
    "    ('stacking_model', StackingClassifier(estimators=[('random_forest', model_rf),\n",
    "                               ('logistic_regression', model_lr),\n",
    "                               ('naive_bayes', model_nb)],\n",
    "                               final_estimator=RandomForestClassifier(random_state=42)))\n",
    "])\n",
    "\n",
    "pipeline.fit(X_train, y_train)\n",
    "\n",
    "predictions = pipeline.predict(X_test)\n",
    "accuracy = accuracy_score(y_test, predictions)\n",
    "print(f'Acurácia do modelo de stacking: {accuracy.round(1)*100}%')"
   ]
  }
 ],
 "metadata": {
  "hide_input": false,
  "kernelspec": {
   "display_name": "Python 3 (ipykernel)",
   "language": "python",
   "name": "python3"
  },
  "language_info": {
   "codemirror_mode": {
    "name": "ipython",
    "version": 3
   },
   "file_extension": ".py",
   "mimetype": "text/x-python",
   "name": "python",
   "nbconvert_exporter": "python",
   "pygments_lexer": "ipython3",
   "version": "3.8.10"
  },
  "nbTranslate": {
   "displayLangs": [
    "*"
   ],
   "hotkey": "alt-t",
   "langInMainMenu": true,
   "sourceLang": "en",
   "targetLang": "fr",
   "useGoogleTranslate": true
  },
  "toc": {
   "base_numbering": 1,
   "nav_menu": {},
   "number_sections": true,
   "sideBar": true,
   "skip_h1_title": false,
   "title_cell": "Table of Contents",
   "title_sidebar": "Contents",
   "toc_cell": false,
   "toc_position": {},
   "toc_section_display": true,
   "toc_window_display": false
  },
  "varInspector": {
   "cols": {
    "lenName": 16,
    "lenType": 16,
    "lenVar": 40
   },
   "kernels_config": {
    "python": {
     "delete_cmd_postfix": "",
     "delete_cmd_prefix": "del ",
     "library": "var_list.py",
     "varRefreshCmd": "print(var_dic_list())"
    },
    "r": {
     "delete_cmd_postfix": ") ",
     "delete_cmd_prefix": "rm(",
     "library": "var_list.r",
     "varRefreshCmd": "cat(var_dic_list()) "
    }
   },
   "types_to_exclude": [
    "module",
    "function",
    "builtin_function_or_method",
    "instance",
    "_Feature"
   ],
   "window_display": false
  }
 },
 "nbformat": 4,
 "nbformat_minor": 5
}

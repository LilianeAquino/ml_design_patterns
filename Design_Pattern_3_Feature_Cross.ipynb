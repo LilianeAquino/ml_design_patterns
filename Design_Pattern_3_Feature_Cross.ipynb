{
 "cells": [
  {
   "cell_type": "markdown",
   "id": "46724f19",
   "metadata": {},
   "source": [
    "# Design Pattern 3: Feature Cross\n",
    "\n",
    "> Cria um recurso sintético formado pela concatenação de dois ou mais recursos categóricos pata capturar a interação entre eles."
   ]
  },
  {
   "cell_type": "markdown",
   "id": "a4fd56fd",
   "metadata": {},
   "source": [
    "### Bibliotecas"
   ]
  },
  {
   "cell_type": "code",
   "execution_count": 6,
   "id": "f11ff1d8",
   "metadata": {},
   "outputs": [],
   "source": [
    "import pandas as pd\n",
    "import tensorflow as tf\n",
    "from tensorflow.keras.models import Model\n",
    "from tensorflow.keras.models import Sequential\n",
    "from tensorflow.keras.layers import Dense, DenseFeatures\n",
    "from tensorflow.feature_column import crossed_column, embedding_column"
   ]
  },
  {
   "cell_type": "markdown",
   "id": "2301eb84",
   "metadata": {},
   "source": [
    "### Dados de teste"
   ]
  },
  {
   "cell_type": "code",
   "execution_count": 2,
   "id": "ce17225d",
   "metadata": {},
   "outputs": [
    {
     "name": "stdout",
     "output_type": "stream",
     "text": [
      "Linhas: 185665 | Colunas: 6\n"
     ]
    },
    {
     "data": {
      "text/html": [
       "<div>\n",
       "<style scoped>\n",
       "    .dataframe tbody tr th:only-of-type {\n",
       "        vertical-align: middle;\n",
       "    }\n",
       "\n",
       "    .dataframe tbody tr th {\n",
       "        vertical-align: top;\n",
       "    }\n",
       "\n",
       "    .dataframe thead th {\n",
       "        text-align: right;\n",
       "    }\n",
       "</style>\n",
       "<table border=\"1\" class=\"dataframe\">\n",
       "  <thead>\n",
       "    <tr style=\"text-align: right;\">\n",
       "      <th></th>\n",
       "      <th>weight_pounds</th>\n",
       "      <th>is_male</th>\n",
       "      <th>mother_age</th>\n",
       "      <th>plurality</th>\n",
       "      <th>gestation_weeks</th>\n",
       "      <th>mother_race</th>\n",
       "    </tr>\n",
       "  </thead>\n",
       "  <tbody>\n",
       "    <tr>\n",
       "      <th>0</th>\n",
       "      <td>7.749249</td>\n",
       "      <td>False</td>\n",
       "      <td>12</td>\n",
       "      <td>Single(1)</td>\n",
       "      <td>40</td>\n",
       "      <td>1.0</td>\n",
       "    </tr>\n",
       "    <tr>\n",
       "      <th>1</th>\n",
       "      <td>7.561856</td>\n",
       "      <td>True</td>\n",
       "      <td>12</td>\n",
       "      <td>Single(1)</td>\n",
       "      <td>40</td>\n",
       "      <td>2.0</td>\n",
       "    </tr>\n",
       "    <tr>\n",
       "      <th>2</th>\n",
       "      <td>7.187070</td>\n",
       "      <td>False</td>\n",
       "      <td>12</td>\n",
       "      <td>Single(1)</td>\n",
       "      <td>34</td>\n",
       "      <td>3.0</td>\n",
       "    </tr>\n",
       "    <tr>\n",
       "      <th>3</th>\n",
       "      <td>6.375769</td>\n",
       "      <td>True</td>\n",
       "      <td>12</td>\n",
       "      <td>Single(1)</td>\n",
       "      <td>36</td>\n",
       "      <td>2.0</td>\n",
       "    </tr>\n",
       "    <tr>\n",
       "      <th>5</th>\n",
       "      <td>6.000983</td>\n",
       "      <td>False</td>\n",
       "      <td>12</td>\n",
       "      <td>Single(1)</td>\n",
       "      <td>39</td>\n",
       "      <td>2.0</td>\n",
       "    </tr>\n",
       "  </tbody>\n",
       "</table>\n",
       "</div>"
      ],
      "text/plain": [
       "   weight_pounds  is_male  mother_age  plurality  gestation_weeks  mother_race\n",
       "0       7.749249    False          12  Single(1)               40          1.0\n",
       "1       7.561856     True          12  Single(1)               40          2.0\n",
       "2       7.187070    False          12  Single(1)               34          3.0\n",
       "3       6.375769     True          12  Single(1)               36          2.0\n",
       "5       6.000983    False          12  Single(1)               39          2.0"
      ]
     },
     "execution_count": 2,
     "metadata": {},
     "output_type": "execute_result"
    }
   ],
   "source": [
    "df = pd.read_csv('data/babyweight_train.csv')\n",
    "df.dropna(inplace=True)\n",
    "print(f'Linhas: {df.shape[0]} | Colunas: {df.shape[1]}')\n",
    "df.head()"
   ]
  },
  {
   "cell_type": "markdown",
   "id": "7fc00457",
   "metadata": {},
   "source": [
    "### Design Pattern 3: Feature Cross\n",
    "\n",
    "- Selecione as colunas\n",
    "- Defina o tamanho dos buckets\n",
    "- Crie a coluna cruzada combinando as características selecionadas\n",
    "- Em seguida, podemos criar uma camada de incorporação e usar como entrada de uma rede neural"
   ]
  },
  {
   "cell_type": "code",
   "execution_count": 5,
   "id": "ecacad3b",
   "metadata": {
    "code_folding": []
   },
   "outputs": [],
   "source": [
    "is_male = tf.feature_column.categorical_column_with_vocabulary_list('is_male', ['True', 'False', 'Unknown'])\n",
    "plurality = tf.feature_column.categorical_column_with_vocabulary_list('plurality', ['Single', 'Twins', 'Triplets', 'Quadruplets', 'Quintuplets', 'Multiple'])\n",
    "\n",
    "hash_bucket_size = 1000\n",
    "\n",
    "gender_x_plurality = crossed_column(['is_male', 'plurality'], hash_bucket_size=hash_bucket_size)\n",
    "\n",
    "crossed_feature = embedding_column(gender_x_plurality, dimension=2)"
   ]
  },
  {
   "cell_type": "code",
   "execution_count": 4,
   "id": "356509a6",
   "metadata": {},
   "outputs": [
    {
     "name": "stdout",
     "output_type": "stream",
     "text": [
      "Model: \"model\"\n",
      "__________________________________________________________________________________________________\n",
      " Layer (type)                Output Shape                 Param #   Connected to                  \n",
      "==================================================================================================\n",
      " is_male (InputLayer)        [(None, 1)]                  0         []                            \n",
      "                                                                                                  \n",
      " is_male_X_plurality_embedd  [(None, 1)]                  0         []                            \n",
      " ing (InputLayer)                                                                                 \n",
      "                                                                                                  \n",
      " plurality (InputLayer)      [(None, 1)]                  0         []                            \n",
      "                                                                                                  \n",
      " dense_features (DenseFeatu  (None, 2)                    2000      ['is_male[0][0]',             \n",
      " res)                                                                'is_male_X_plurality_embeddin\n",
      "                                                                    g[0][0]',                     \n",
      "                                                                     'plurality[0][0]']           \n",
      "                                                                                                  \n",
      " dense (Dense)               (None, 128)                  384       ['dense_features[0][0]']      \n",
      "                                                                                                  \n",
      " dense_1 (Dense)             (None, 64)                   8256      ['dense[0][0]']               \n",
      "                                                                                                  \n",
      " dense_2 (Dense)             (None, 1)                    65        ['dense_1[0][0]']             \n",
      "                                                                                                  \n",
      "==================================================================================================\n",
      "Total params: 10705 (41.82 KB)\n",
      "Trainable params: 10705 (41.82 KB)\n",
      "Non-trainable params: 0 (0.00 Byte)\n",
      "__________________________________________________________________________________________________\n"
     ]
    }
   ],
   "source": [
    "feature_columns = [crossed_feature]\n",
    "X_train = df[:100].copy()\n",
    "\n",
    "\n",
    "feature_layer_inputs = {}\n",
    "for column in [is_male, plurality, crossed_feature]:\n",
    "    feature_layer_inputs[column.name] = tf.keras.Input(shape=(1,), name=column.name, dtype=tf.string)\n",
    "\n",
    "feature_layer = DenseFeatures([crossed_feature])(feature_layer_inputs)\n",
    "\n",
    "x = Dense(128, activation='relu')(feature_layer)\n",
    "x = Dense(64, activation='relu')(x)\n",
    "output = Dense(1, activation='sigmoid')(x)\n",
    "\n",
    "model = Model(inputs=feature_layer_inputs, outputs=output)\n",
    "\n",
    "model.compile(optimizer='adam', loss='binary_crossentropy', metrics=['accuracy'])\n",
    "model.summary()"
   ]
  }
 ],
 "metadata": {
  "hide_input": false,
  "kernelspec": {
   "display_name": "Python 3 (ipykernel)",
   "language": "python",
   "name": "python3"
  },
  "language_info": {
   "codemirror_mode": {
    "name": "ipython",
    "version": 3
   },
   "file_extension": ".py",
   "mimetype": "text/x-python",
   "name": "python",
   "nbconvert_exporter": "python",
   "pygments_lexer": "ipython3",
   "version": "3.8.10"
  },
  "nbTranslate": {
   "displayLangs": [
    "*"
   ],
   "hotkey": "alt-t",
   "langInMainMenu": true,
   "sourceLang": "en",
   "targetLang": "fr",
   "useGoogleTranslate": true
  },
  "toc": {
   "base_numbering": 1,
   "nav_menu": {},
   "number_sections": true,
   "sideBar": true,
   "skip_h1_title": false,
   "title_cell": "Table of Contents",
   "title_sidebar": "Contents",
   "toc_cell": false,
   "toc_position": {},
   "toc_section_display": true,
   "toc_window_display": false
  },
  "varInspector": {
   "cols": {
    "lenName": 16,
    "lenType": 16,
    "lenVar": 40
   },
   "kernels_config": {
    "python": {
     "delete_cmd_postfix": "",
     "delete_cmd_prefix": "del ",
     "library": "var_list.py",
     "varRefreshCmd": "print(var_dic_list())"
    },
    "r": {
     "delete_cmd_postfix": ") ",
     "delete_cmd_prefix": "rm(",
     "library": "var_list.r",
     "varRefreshCmd": "cat(var_dic_list()) "
    }
   },
   "types_to_exclude": [
    "module",
    "function",
    "builtin_function_or_method",
    "instance",
    "_Feature"
   ],
   "window_display": false
  }
 },
 "nbformat": 4,
 "nbformat_minor": 5
}

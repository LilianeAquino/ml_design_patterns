{
 "cells": [
  {
   "cell_type": "markdown",
   "id": "79d4e4e1",
   "metadata": {},
   "source": [
    "# Design Pattern 1: Hashed Feature\n",
    "> O padrão aborda três problemas possíveis associados a características categóricas: vocabulário incompleto, tamanho do modelo devido à cardinalidade e início a frio. Ele faz isso agrupando as características categóricas e aceitando o compromisso de colisões na representação dos dados."
   ]
  },
  {
   "cell_type": "markdown",
   "id": "e50673b9",
   "metadata": {},
   "source": [
    "### Bibliotecas"
   ]
  },
  {
   "cell_type": "code",
   "execution_count": 1,
   "id": "429ebac8",
   "metadata": {},
   "outputs": [],
   "source": [
    "import hashlib\n",
    "import pandas as pd\n",
    "import numpy as np\n",
    "from sklearn.preprocessing import LabelEncoder\n",
    "from sklearn.model_selection import train_test_split\n",
    "from sklearn.ensemble import RandomForestClassifier\n",
    "from sklearn.metrics import accuracy_score, classification_report"
   ]
  },
  {
   "cell_type": "markdown",
   "id": "c5843b6b",
   "metadata": {},
   "source": [
    "### Dados de teste"
   ]
  },
  {
   "cell_type": "code",
   "execution_count": 2,
   "id": "b3aaa830",
   "metadata": {},
   "outputs": [
    {
     "name": "stdout",
     "output_type": "stream",
     "text": [
      "Linhas: 2542519 | Colunas: 21\n"
     ]
    },
    {
     "data": {
      "text/html": [
       "<div>\n",
       "<style scoped>\n",
       "    .dataframe tbody tr th:only-of-type {\n",
       "        vertical-align: middle;\n",
       "    }\n",
       "\n",
       "    .dataframe tbody tr th {\n",
       "        vertical-align: top;\n",
       "    }\n",
       "\n",
       "    .dataframe thead th {\n",
       "        text-align: right;\n",
       "    }\n",
       "</style>\n",
       "<table border=\"1\" class=\"dataframe\">\n",
       "  <thead>\n",
       "    <tr style=\"text-align: right;\">\n",
       "      <th></th>\n",
       "      <th>Voos</th>\n",
       "      <th>Companhia.Aerea</th>\n",
       "      <th>Codigo.Tipo.Linha</th>\n",
       "      <th>Partida.Prevista</th>\n",
       "      <th>Partida.Real</th>\n",
       "      <th>Chegada.Prevista</th>\n",
       "      <th>Chegada.Real</th>\n",
       "      <th>Situacao.Voo</th>\n",
       "      <th>Codigo.Justificativa</th>\n",
       "      <th>Aeroporto.Origem</th>\n",
       "      <th>...</th>\n",
       "      <th>Estado.Origem</th>\n",
       "      <th>Pais.Origem</th>\n",
       "      <th>Aeroporto.Destino</th>\n",
       "      <th>Cidade.Destino</th>\n",
       "      <th>Estado.Destino</th>\n",
       "      <th>Pais.Destino</th>\n",
       "      <th>LongDest</th>\n",
       "      <th>LatDest</th>\n",
       "      <th>LongOrig</th>\n",
       "      <th>LatOrig</th>\n",
       "    </tr>\n",
       "  </thead>\n",
       "  <tbody>\n",
       "    <tr>\n",
       "      <th>0</th>\n",
       "      <td>AAL - 203</td>\n",
       "      <td>AMERICAN AIRLINES INC</td>\n",
       "      <td>Internacional</td>\n",
       "      <td>2016-01-30T08:58:00Z</td>\n",
       "      <td>2016-01-30T08:58:00Z</td>\n",
       "      <td>2016-01-30T10:35:00Z</td>\n",
       "      <td>2016-01-30T10:35:00Z</td>\n",
       "      <td>Realizado</td>\n",
       "      <td>NaN</td>\n",
       "      <td>Afonso Pena</td>\n",
       "      <td>...</td>\n",
       "      <td>PR</td>\n",
       "      <td>Brasil</td>\n",
       "      <td>Salgado Filho</td>\n",
       "      <td>Porto Alegre</td>\n",
       "      <td>RS</td>\n",
       "      <td>Brasil</td>\n",
       "      <td>-51.175381</td>\n",
       "      <td>-29.993473</td>\n",
       "      <td>-49.172481</td>\n",
       "      <td>-25.532713</td>\n",
       "    </tr>\n",
       "    <tr>\n",
       "      <th>1</th>\n",
       "      <td>AAL - 203</td>\n",
       "      <td>AMERICAN AIRLINES INC</td>\n",
       "      <td>Internacional</td>\n",
       "      <td>2016-01-13T12:13:00Z</td>\n",
       "      <td>2016-01-13T12:13:00Z</td>\n",
       "      <td>2016-01-13T21:30:00Z</td>\n",
       "      <td>2016-01-13T21:30:00Z</td>\n",
       "      <td>Realizado</td>\n",
       "      <td>NaN</td>\n",
       "      <td>Salgado Filho</td>\n",
       "      <td>...</td>\n",
       "      <td>RS</td>\n",
       "      <td>Brasil</td>\n",
       "      <td>Miami</td>\n",
       "      <td>Miami</td>\n",
       "      <td>N/I</td>\n",
       "      <td>Estados Unidos</td>\n",
       "      <td>-80.287046</td>\n",
       "      <td>25.795865</td>\n",
       "      <td>-51.175381</td>\n",
       "      <td>-29.993473</td>\n",
       "    </tr>\n",
       "    <tr>\n",
       "      <th>2</th>\n",
       "      <td>AAL - 203</td>\n",
       "      <td>AMERICAN AIRLINES INC</td>\n",
       "      <td>Internacional</td>\n",
       "      <td>2016-01-29T12:13:00Z</td>\n",
       "      <td>2016-01-29T12:13:00Z</td>\n",
       "      <td>2016-01-29T21:30:00Z</td>\n",
       "      <td>2016-01-29T21:30:00Z</td>\n",
       "      <td>Realizado</td>\n",
       "      <td>NaN</td>\n",
       "      <td>Salgado Filho</td>\n",
       "      <td>...</td>\n",
       "      <td>RS</td>\n",
       "      <td>Brasil</td>\n",
       "      <td>Miami</td>\n",
       "      <td>Miami</td>\n",
       "      <td>N/I</td>\n",
       "      <td>Estados Unidos</td>\n",
       "      <td>-80.287046</td>\n",
       "      <td>25.795865</td>\n",
       "      <td>-51.175381</td>\n",
       "      <td>-29.993473</td>\n",
       "    </tr>\n",
       "    <tr>\n",
       "      <th>3</th>\n",
       "      <td>AAL - 203</td>\n",
       "      <td>AMERICAN AIRLINES INC</td>\n",
       "      <td>Internacional</td>\n",
       "      <td>2016-01-19T12:13:00Z</td>\n",
       "      <td>2016-01-18T12:03:00Z</td>\n",
       "      <td>2016-01-19T21:30:00Z</td>\n",
       "      <td>2016-01-18T20:41:00Z</td>\n",
       "      <td>Realizado</td>\n",
       "      <td>LIBERACAO SERV. TRAFEGO AEREO/ANTECIPACAO</td>\n",
       "      <td>Salgado Filho</td>\n",
       "      <td>...</td>\n",
       "      <td>RS</td>\n",
       "      <td>Brasil</td>\n",
       "      <td>Miami</td>\n",
       "      <td>Miami</td>\n",
       "      <td>N/I</td>\n",
       "      <td>Estados Unidos</td>\n",
       "      <td>-80.287046</td>\n",
       "      <td>25.795865</td>\n",
       "      <td>-51.175381</td>\n",
       "      <td>-29.993473</td>\n",
       "    </tr>\n",
       "    <tr>\n",
       "      <th>4</th>\n",
       "      <td>AAL - 203</td>\n",
       "      <td>AMERICAN AIRLINES INC</td>\n",
       "      <td>Internacional</td>\n",
       "      <td>2016-01-30T12:13:00Z</td>\n",
       "      <td>2016-01-30T12:13:00Z</td>\n",
       "      <td>2016-01-30T21:30:00Z</td>\n",
       "      <td>2016-01-30T21:30:00Z</td>\n",
       "      <td>Realizado</td>\n",
       "      <td>NaN</td>\n",
       "      <td>Salgado Filho</td>\n",
       "      <td>...</td>\n",
       "      <td>RS</td>\n",
       "      <td>Brasil</td>\n",
       "      <td>Miami</td>\n",
       "      <td>Miami</td>\n",
       "      <td>N/I</td>\n",
       "      <td>Estados Unidos</td>\n",
       "      <td>-80.287046</td>\n",
       "      <td>25.795865</td>\n",
       "      <td>-51.175381</td>\n",
       "      <td>-29.993473</td>\n",
       "    </tr>\n",
       "  </tbody>\n",
       "</table>\n",
       "<p>5 rows × 21 columns</p>\n",
       "</div>"
      ],
      "text/plain": [
       "        Voos        Companhia.Aerea Codigo.Tipo.Linha      Partida.Prevista  \\\n",
       "0  AAL - 203  AMERICAN AIRLINES INC     Internacional  2016-01-30T08:58:00Z   \n",
       "1  AAL - 203  AMERICAN AIRLINES INC     Internacional  2016-01-13T12:13:00Z   \n",
       "2  AAL - 203  AMERICAN AIRLINES INC     Internacional  2016-01-29T12:13:00Z   \n",
       "3  AAL - 203  AMERICAN AIRLINES INC     Internacional  2016-01-19T12:13:00Z   \n",
       "4  AAL - 203  AMERICAN AIRLINES INC     Internacional  2016-01-30T12:13:00Z   \n",
       "\n",
       "           Partida.Real      Chegada.Prevista          Chegada.Real  \\\n",
       "0  2016-01-30T08:58:00Z  2016-01-30T10:35:00Z  2016-01-30T10:35:00Z   \n",
       "1  2016-01-13T12:13:00Z  2016-01-13T21:30:00Z  2016-01-13T21:30:00Z   \n",
       "2  2016-01-29T12:13:00Z  2016-01-29T21:30:00Z  2016-01-29T21:30:00Z   \n",
       "3  2016-01-18T12:03:00Z  2016-01-19T21:30:00Z  2016-01-18T20:41:00Z   \n",
       "4  2016-01-30T12:13:00Z  2016-01-30T21:30:00Z  2016-01-30T21:30:00Z   \n",
       "\n",
       "  Situacao.Voo                       Codigo.Justificativa Aeroporto.Origem  \\\n",
       "0    Realizado                                        NaN      Afonso Pena   \n",
       "1    Realizado                                        NaN    Salgado Filho   \n",
       "2    Realizado                                        NaN    Salgado Filho   \n",
       "3    Realizado  LIBERACAO SERV. TRAFEGO AEREO/ANTECIPACAO    Salgado Filho   \n",
       "4    Realizado                                        NaN    Salgado Filho   \n",
       "\n",
       "   ... Estado.Origem Pais.Origem Aeroporto.Destino Cidade.Destino  \\\n",
       "0  ...            PR      Brasil     Salgado Filho   Porto Alegre   \n",
       "1  ...            RS      Brasil             Miami          Miami   \n",
       "2  ...            RS      Brasil             Miami          Miami   \n",
       "3  ...            RS      Brasil             Miami          Miami   \n",
       "4  ...            RS      Brasil             Miami          Miami   \n",
       "\n",
       "  Estado.Destino    Pais.Destino   LongDest    LatDest   LongOrig    LatOrig  \n",
       "0             RS          Brasil -51.175381 -29.993473 -49.172481 -25.532713  \n",
       "1            N/I  Estados Unidos -80.287046  25.795865 -51.175381 -29.993473  \n",
       "2            N/I  Estados Unidos -80.287046  25.795865 -51.175381 -29.993473  \n",
       "3            N/I  Estados Unidos -80.287046  25.795865 -51.175381 -29.993473  \n",
       "4            N/I  Estados Unidos -80.287046  25.795865 -51.175381 -29.993473  \n",
       "\n",
       "[5 rows x 21 columns]"
      ]
     },
     "execution_count": 2,
     "metadata": {},
     "output_type": "execute_result"
    }
   ],
   "source": [
    "df = pd.read_csv('data/BrFlights2.csv', encoding='latin1')\n",
    "print(f'Linhas: {df.shape[0]} | Colunas: {df.shape[1]}')\n",
    "df.head()"
   ]
  },
  {
   "cell_type": "markdown",
   "id": "86c7a231",
   "metadata": {},
   "source": [
    "### Aplicação do padrão\n",
    "\n",
    "- Passo 1: converte a entrada categórica em uma string;\n",
    "- Passo 2: aplica um algoritmo de hash;\n",
    "- Passo 3: calcula o resto ao dividir o resultado do hash pelo número desejado de buckets e garante o valor positivo com o abs."
   ]
  },
  {
   "cell_type": "code",
   "execution_count": 3,
   "id": "fd8d3399",
   "metadata": {},
   "outputs": [],
   "source": [
    "def hashedFeature(category: str, numBuckets: int) -> int:\n",
    "    hashResult = int(hashlib.sha256(str(category).encode()).hexdigest(), 16)\n",
    "    bucketIndex = abs(hashResult) % numBuckets\n",
    "    return bucketIndex"
   ]
  },
  {
   "cell_type": "code",
   "execution_count": 5,
   "id": "442de533",
   "metadata": {},
   "outputs": [
    {
     "data": {
      "text/html": [
       "<div>\n",
       "<style scoped>\n",
       "    .dataframe tbody tr th:only-of-type {\n",
       "        vertical-align: middle;\n",
       "    }\n",
       "\n",
       "    .dataframe tbody tr th {\n",
       "        vertical-align: top;\n",
       "    }\n",
       "\n",
       "    .dataframe thead th {\n",
       "        text-align: right;\n",
       "    }\n",
       "</style>\n",
       "<table border=\"1\" class=\"dataframe\">\n",
       "  <thead>\n",
       "    <tr style=\"text-align: right;\">\n",
       "      <th></th>\n",
       "      <th>Voos</th>\n",
       "      <th>Companhia.Aerea</th>\n",
       "      <th>Codigo.Justificativa</th>\n",
       "    </tr>\n",
       "  </thead>\n",
       "  <tbody>\n",
       "    <tr>\n",
       "      <th>3</th>\n",
       "      <td>3</td>\n",
       "      <td>7</td>\n",
       "      <td>3</td>\n",
       "    </tr>\n",
       "    <tr>\n",
       "      <th>6</th>\n",
       "      <td>3</td>\n",
       "      <td>7</td>\n",
       "      <td>3</td>\n",
       "    </tr>\n",
       "    <tr>\n",
       "      <th>7</th>\n",
       "      <td>3</td>\n",
       "      <td>7</td>\n",
       "      <td>1</td>\n",
       "    </tr>\n",
       "    <tr>\n",
       "      <th>9</th>\n",
       "      <td>3</td>\n",
       "      <td>7</td>\n",
       "      <td>0</td>\n",
       "    </tr>\n",
       "    <tr>\n",
       "      <th>10</th>\n",
       "      <td>3</td>\n",
       "      <td>7</td>\n",
       "      <td>1</td>\n",
       "    </tr>\n",
       "  </tbody>\n",
       "</table>\n",
       "</div>"
      ],
      "text/plain": [
       "    Voos  Companhia.Aerea  Codigo.Justificativa\n",
       "3      3                7                     3\n",
       "6      3                7                     3\n",
       "7      3                7                     1\n",
       "9      3                7                     0\n",
       "10     3                7                     1"
      ]
     },
     "execution_count": 5,
     "metadata": {},
     "output_type": "execute_result"
    }
   ],
   "source": [
    "dados = df[['Voos', 'Companhia.Aerea', 'Codigo.Justificativa']].dropna()\n",
    "buckets = 10\n",
    "\n",
    "for column in dados.columns:\n",
    "    dados[column] = dados[column].apply(lambda x: hashedFeature(x, buckets))\n",
    "dados.head()"
   ]
  },
  {
   "cell_type": "code",
   "execution_count": 6,
   "id": "8e9dcc28",
   "metadata": {},
   "outputs": [
    {
     "data": {
      "text/plain": [
       "5    111336\n",
       "3    108476\n",
       "7    108049\n",
       "2    104246\n",
       "6    104164\n",
       "4    102278\n",
       "9    101585\n",
       "0     98993\n",
       "1     98778\n",
       "8     94402\n",
       "Name: Voos, dtype: int64"
      ]
     },
     "execution_count": 6,
     "metadata": {},
     "output_type": "execute_result"
    }
   ],
   "source": [
    "dados['Voos'].value_counts()"
   ]
  }
 ],
 "metadata": {
  "hide_input": false,
  "kernelspec": {
   "display_name": "Python 3 (ipykernel)",
   "language": "python",
   "name": "python3"
  },
  "language_info": {
   "codemirror_mode": {
    "name": "ipython",
    "version": 3
   },
   "file_extension": ".py",
   "mimetype": "text/x-python",
   "name": "python",
   "nbconvert_exporter": "python",
   "pygments_lexer": "ipython3",
   "version": "3.8.10"
  },
  "nbTranslate": {
   "displayLangs": [
    "*"
   ],
   "hotkey": "alt-t",
   "langInMainMenu": true,
   "sourceLang": "en",
   "targetLang": "fr",
   "useGoogleTranslate": true
  },
  "toc": {
   "base_numbering": 1,
   "nav_menu": {},
   "number_sections": true,
   "sideBar": true,
   "skip_h1_title": false,
   "title_cell": "Table of Contents",
   "title_sidebar": "Contents",
   "toc_cell": false,
   "toc_position": {},
   "toc_section_display": true,
   "toc_window_display": false
  },
  "varInspector": {
   "cols": {
    "lenName": 16,
    "lenType": 16,
    "lenVar": 40
   },
   "kernels_config": {
    "python": {
     "delete_cmd_postfix": "",
     "delete_cmd_prefix": "del ",
     "library": "var_list.py",
     "varRefreshCmd": "print(var_dic_list())"
    },
    "r": {
     "delete_cmd_postfix": ") ",
     "delete_cmd_prefix": "rm(",
     "library": "var_list.r",
     "varRefreshCmd": "cat(var_dic_list()) "
    }
   },
   "types_to_exclude": [
    "module",
    "function",
    "builtin_function_or_method",
    "instance",
    "_Feature"
   ],
   "window_display": false
  }
 },
 "nbformat": 4,
 "nbformat_minor": 5
}

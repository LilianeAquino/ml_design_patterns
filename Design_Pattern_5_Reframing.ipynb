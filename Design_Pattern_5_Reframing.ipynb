{
 "cells": [
  {
   "cell_type": "markdown",
   "id": "7f6193b3",
   "metadata": {},
   "source": [
    "# Design Pattern 5: Reframing\n",
    "\n",
    "> Refere-se à alteração da representação do resultado de um problema de aprendizado de máquina. Isso pode envolver a mudança da natureza do problema de uma tarefa de regressão para uma de classificação, e vice-versa"
   ]
  },
  {
   "cell_type": "markdown",
   "id": "25575721",
   "metadata": {},
   "source": [
    "### Bibliotecas"
   ]
  },
  {
   "cell_type": "code",
   "execution_count": 1,
   "id": "a5631637",
   "metadata": {},
   "outputs": [],
   "source": [
    "import pandas as pd\n",
    "import numpy as np\n",
    "import seaborn as sns\n",
    "import matplotlib\n",
    "import matplotlib.pyplot as plt\n",
    "import matplotlib.colors as mcolors\n",
    "%matplotlib inline\n",
    "\n",
    "from sklearn.tree import DecisionTreeClassifier\n",
    "from sklearn.calibration import CalibratedClassifierCV\n",
    "from sklearn.compose import ColumnTransformer\n",
    "from sklearn.pipeline import Pipeline\n",
    "from sklearn.preprocessing import OneHotEncoder\n",
    "from sklearn.model_selection import train_test_split"
   ]
  },
  {
   "cell_type": "markdown",
   "id": "9a67ee83",
   "metadata": {},
   "source": [
    "### Base de exemplo"
   ]
  },
  {
   "cell_type": "code",
   "execution_count": 2,
   "id": "e29b20d5",
   "metadata": {},
   "outputs": [
    {
     "name": "stdout",
     "output_type": "stream",
     "text": [
      "(185665, 6)\n"
     ]
    },
    {
     "data": {
      "text/html": [
       "<div>\n",
       "<style scoped>\n",
       "    .dataframe tbody tr th:only-of-type {\n",
       "        vertical-align: middle;\n",
       "    }\n",
       "\n",
       "    .dataframe tbody tr th {\n",
       "        vertical-align: top;\n",
       "    }\n",
       "\n",
       "    .dataframe thead th {\n",
       "        text-align: right;\n",
       "    }\n",
       "</style>\n",
       "<table border=\"1\" class=\"dataframe\">\n",
       "  <thead>\n",
       "    <tr style=\"text-align: right;\">\n",
       "      <th></th>\n",
       "      <th>weight_pounds</th>\n",
       "      <th>is_male</th>\n",
       "      <th>mother_age</th>\n",
       "      <th>plurality</th>\n",
       "      <th>gestation_weeks</th>\n",
       "      <th>mother_race</th>\n",
       "    </tr>\n",
       "  </thead>\n",
       "  <tbody>\n",
       "    <tr>\n",
       "      <th>0</th>\n",
       "      <td>7.749249</td>\n",
       "      <td>False</td>\n",
       "      <td>12</td>\n",
       "      <td>Single(1)</td>\n",
       "      <td>40</td>\n",
       "      <td>1.0</td>\n",
       "    </tr>\n",
       "    <tr>\n",
       "      <th>1</th>\n",
       "      <td>7.561856</td>\n",
       "      <td>True</td>\n",
       "      <td>12</td>\n",
       "      <td>Single(1)</td>\n",
       "      <td>40</td>\n",
       "      <td>2.0</td>\n",
       "    </tr>\n",
       "    <tr>\n",
       "      <th>2</th>\n",
       "      <td>7.187070</td>\n",
       "      <td>False</td>\n",
       "      <td>12</td>\n",
       "      <td>Single(1)</td>\n",
       "      <td>34</td>\n",
       "      <td>3.0</td>\n",
       "    </tr>\n",
       "    <tr>\n",
       "      <th>3</th>\n",
       "      <td>6.375769</td>\n",
       "      <td>True</td>\n",
       "      <td>12</td>\n",
       "      <td>Single(1)</td>\n",
       "      <td>36</td>\n",
       "      <td>2.0</td>\n",
       "    </tr>\n",
       "    <tr>\n",
       "      <th>5</th>\n",
       "      <td>6.000983</td>\n",
       "      <td>False</td>\n",
       "      <td>12</td>\n",
       "      <td>Single(1)</td>\n",
       "      <td>39</td>\n",
       "      <td>2.0</td>\n",
       "    </tr>\n",
       "  </tbody>\n",
       "</table>\n",
       "</div>"
      ],
      "text/plain": [
       "   weight_pounds  is_male  mother_age  plurality  gestation_weeks  mother_race\n",
       "0       7.749249    False          12  Single(1)               40          1.0\n",
       "1       7.561856     True          12  Single(1)               40          2.0\n",
       "2       7.187070    False          12  Single(1)               34          3.0\n",
       "3       6.375769     True          12  Single(1)               36          2.0\n",
       "5       6.000983    False          12  Single(1)               39          2.0"
      ]
     },
     "execution_count": 2,
     "metadata": {},
     "output_type": "execute_result"
    }
   ],
   "source": [
    "df = pd.read_csv('data/babyweight_train.csv')\n",
    "df.dropna(inplace=True)\n",
    "print(df.shape)\n",
    "df.head()"
   ]
  },
  {
   "cell_type": "markdown",
   "id": "93f08703",
   "metadata": {},
   "source": [
    "### Design Pattern 5: Reframing\n",
    "\n",
    "- Avalie se reframing (mudar a forma como você aborda o problema) pode ser benéfico para lidar com a incerteza ou a variação\n",
    "- Se decidir por reframing, escolha uma abordagem específica\n",
    "- Modifique a formulação do problema para incorporar a nova abordagem"
   ]
  },
  {
   "cell_type": "markdown",
   "id": "7c691d56",
   "metadata": {},
   "source": [
    "> Nesse exemplo, queremos prever o peso de um recém-nascido em libras (regressão) e podemos usar o padrão de reframing devido a natureza probabilística inerente ao problema, porque a distribuição dos pesos dos bebês apresenta uma considerável dispersão em relação à média."
   ]
  },
  {
   "cell_type": "code",
   "execution_count": 3,
   "id": "c60a764b",
   "metadata": {},
   "outputs": [
    {
     "name": "stderr",
     "output_type": "stream",
     "text": [
      "/tmp/ipykernel_18298/2945180310.py:4: UserWarning: \n",
      "\n",
      "`distplot` is a deprecated function and will be removed in seaborn v0.14.0.\n",
      "\n",
      "Please adapt your code to use either `displot` (a figure-level function with\n",
      "similar flexibility) or `histplot` (an axes-level function for histograms).\n",
      "\n",
      "For a guide to updating your code to use the new functions, please see\n",
      "https://gist.github.com/mwaskom/de44147ed2974457ad6372750bbe5751\n",
      "\n",
      "  ax = sns.distplot(df['weight_pounds'], kde=True, color='#191970')\n"
     ]
    },
    {
     "data": {
      "image/png": "[encoded data removed]",
      "text/plain": [
       "<Figure size 1200x600 with 1 Axes>"
      ]
     },
     "metadata": {},
     "output_type": "display_data"
    }
   ],
   "source": [
    "suptitle = 'Histograma pesos'\n",
    "title = 'Análise da distribuição para a variável peso em libras'\n",
    "\n",
    "ax = sns.distplot(df['weight_pounds'], kde=True, color='#191970')\n",
    "ax.figure.set_size_inches(12, 6)\n",
    "ax.set_ylabel('Densidade', fontsize=14, horizontalalignment='left', y=0.67)\n",
    "ax.set_xlabel(None)\n",
    "ax.spines[['top', 'right']].set_visible(False)\n",
    "plt.suptitle(suptitle, fontsize=18, y=1.02, horizontalalignment='left', x=0.12, color='black', weight='bold')\n",
    "plt.title(title, fontsize=14, color='#646464', y=1.05, loc='left', x=-0.01)\n",
    "plt.xlim(0, 16)\n",
    "plt.grid(False)\n",
    "plt.show()"
   ]
  },
  {
   "cell_type": "markdown",
   "id": "71692267",
   "metadata": {},
   "source": [
    "#### Discretiza a variável de destino 'weight_pounds' para que o problema seja tratado como classificação"
   ]
  },
  {
   "cell_type": "code",
   "execution_count": 4,
   "id": "c701a231",
   "metadata": {},
   "outputs": [],
   "source": [
    "bins = [0, 6.5, 7.5, 8.5, np.inf]\n",
    "labels = [0, 1, 2, 3]\n",
    "df['weight_category'] = pd.cut(df['weight_pounds'], bins=bins, labels=labels, right=False)"
   ]
  },
  {
   "cell_type": "markdown",
   "id": "ebb4912e",
   "metadata": {},
   "source": [
    "#### Prepara os dados"
   ]
  },
  {
   "cell_type": "code",
   "execution_count": 5,
   "id": "5a9e3da6",
   "metadata": {},
   "outputs": [],
   "source": [
    "X = df.drop(['weight_pounds', 'weight_category'], axis=1)\n",
    "y = df['weight_category']"
   ]
  },
  {
   "cell_type": "markdown",
   "id": "5c011589",
   "metadata": {},
   "source": [
    "#### Divide a base"
   ]
  },
  {
   "cell_type": "code",
   "execution_count": 6,
   "id": "827d5a16",
   "metadata": {},
   "outputs": [],
   "source": [
    "X_train, X_test, y_train, y_test = train_test_split(X, y, test_size=0.2, random_state=42)"
   ]
  },
  {
   "cell_type": "markdown",
   "id": "beeec585",
   "metadata": {},
   "source": [
    "#### Treino"
   ]
  },
  {
   "cell_type": "code",
   "execution_count": 7,
   "id": "c226eb08",
   "metadata": {},
   "outputs": [],
   "source": [
    "model = Pipeline([\n",
    "    ('preprocess', ColumnTransformer(transformers=[('plurality', OneHotEncoder(), ['plurality'])], remainder='passthrough')),\n",
    "    ('clf', CalibratedClassifierCV(DecisionTreeClassifier(), method='isotonic', cv=5))\n",
    "])\n",
    "\n",
    "model.fit(X_train, y_train)\n",
    "y_prob = model.predict_proba(X_test)"
   ]
  },
  {
   "cell_type": "code",
   "execution_count": 8,
   "id": "3e4ca590",
   "metadata": {},
   "outputs": [
    {
     "name": "stdout",
     "output_type": "stream",
     "text": [
      "Primeiro exemplo de teste é sobre um bebê Single(1) do sexo masculino nascido com 39 semanas de uma mãe de 25 anos.\n",
      "\n",
      "Probabilidade: [0.11329551 0.30928899 0.38707756 0.19033794]\n",
      "\n",
      "Isso significa que o peso do bebê tem 38.71% de chances de estar na categoria 2 que compreende os pesos entre 7.5 e 8.5 libras.\n"
     ]
    }
   ],
   "source": [
    "sex = 'masculino' if X_test[:1]['is_male'].values[0] else 'feminino'\n",
    "plurality = X_test[:1]['plurality'].values[0]\n",
    "weeks = X_test[:1]['gestation_weeks'].values[0]\n",
    "age = X_test[:1]['mother_age'].values[0]\n",
    "\n",
    "print(f'Primeiro exemplo de teste é sobre um bebê {plurality} do sexo {sex} nascido com {weeks} semanas de uma mãe de {age} anos.\\n')\n",
    "print(f'Probabilidade: {y_prob[0]}\\n')\n",
    "\n",
    "max_prob = round(y_prob[0].max() * 100, 2)\n",
    "idx_max = np.argmax(y_prob[0])\n",
    "limit_inf = bins[idx_max]\n",
    "limit_sup = bins[idx_max + 1] if idx_max + 1 < len(bins) else np.inf\n",
    "\n",
    "print(f'Isso significa que o peso do bebê tem {max_prob}% de chances de estar na categoria {idx_max} que compreende os pesos entre {limit_inf} e {limit_sup} libras.')"
   ]
  }
 ],
 "metadata": {
  "hide_input": false,
  "kernelspec": {
   "display_name": "Python 3 (ipykernel)",
   "language": "python",
   "name": "python3"
  },
  "language_info": {
   "codemirror_mode": {
    "name": "ipython",
    "version": 3
   },
   "file_extension": ".py",
   "mimetype": "text/x-python",
   "name": "python",
   "nbconvert_exporter": "python",
   "pygments_lexer": "ipython3",
   "version": "3.8.10"
  },
  "nbTranslate": {
   "displayLangs": [
    "*"
   ],
   "hotkey": "alt-t",
   "langInMainMenu": true,
   "sourceLang": "en",
   "targetLang": "fr",
   "useGoogleTranslate": true
  },
  "toc": {
   "base_numbering": 1,
   "nav_menu": {},
   "number_sections": true,
   "sideBar": true,
   "skip_h1_title": false,
   "title_cell": "Table of Contents",
   "title_sidebar": "Contents",
   "toc_cell": false,
   "toc_position": {},
   "toc_section_display": true,
   "toc_window_display": false
  },
  "varInspector": {
   "cols": {
    "lenName": 16,
    "lenType": 16,
    "lenVar": 40
   },
   "kernels_config": {
    "python": {
     "delete_cmd_postfix": "",
     "delete_cmd_prefix": "del ",
     "library": "var_list.py",
     "varRefreshCmd": "print(var_dic_list())"
    },
    "r": {
     "delete_cmd_postfix": ") ",
     "delete_cmd_prefix": "rm(",
     "library": "var_list.r",
     "varRefreshCmd": "cat(var_dic_list()) "
    }
   },
   "types_to_exclude": [
    "module",
    "function",
    "builtin_function_or_method",
    "instance",
    "_Feature"
   ],
   "window_display": false
  }
 },
 "nbformat": 4,
 "nbformat_minor": 5
}

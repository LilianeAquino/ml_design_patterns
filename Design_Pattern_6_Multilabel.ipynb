{
 "cells": [
  {
   "cell_type": "markdown",
   "id": "7f6193b3",
   "metadata": {},
   "source": [
    "# Design Pattern 6: Multilabel\n",
    "\n",
    "> Refere-se a problemas em que um mesmo exemplo pertence a mais de uma classe."
   ]
  },
  {
   "cell_type": "markdown",
   "id": "25575721",
   "metadata": {},
   "source": [
    "### Bibliotecas"
   ]
  },
  {
   "cell_type": "code",
   "execution_count": 1,
   "id": "a5631637",
   "metadata": {},
   "outputs": [],
   "source": [
    "import pandas as pd\n",
    "import numpy as np\n",
    "from typing import List\n",
    "\n",
    "from sklearn.pipeline import Pipeline\n",
    "from sklearn.multiclass import OneVsRestClassifier\n",
    "from sklearn.linear_model import LogisticRegression\n",
    "from sklearn.model_selection import train_test_split\n",
    "from sklearn.preprocessing import MultiLabelBinarizer\n",
    "from sklearn.feature_extraction.text import TfidfVectorizer\n",
    "from sklearn.metrics import hamming_loss\n",
    "\n",
    "import warnings\n",
    "warnings.filterwarnings('ignore')"
   ]
  },
  {
   "cell_type": "markdown",
   "id": "9a67ee83",
   "metadata": {},
   "source": [
    "### Base de exemplo"
   ]
  },
  {
   "cell_type": "code",
   "execution_count": 2,
   "id": "e29b20d5",
   "metadata": {},
   "outputs": [
    {
     "name": "stdout",
     "output_type": "stream",
     "text": [
      "(1239, 3)\n"
     ]
    },
    {
     "data": {
      "text/html": [
       "<div>\n",
       "<style scoped>\n",
       "    .dataframe tbody tr th:only-of-type {\n",
       "        vertical-align: middle;\n",
       "    }\n",
       "\n",
       "    .dataframe tbody tr th {\n",
       "        vertical-align: top;\n",
       "    }\n",
       "\n",
       "    .dataframe thead th {\n",
       "        text-align: right;\n",
       "    }\n",
       "</style>\n",
       "<table border=\"1\" class=\"dataframe\">\n",
       "  <thead>\n",
       "    <tr style=\"text-align: right;\">\n",
       "      <th></th>\n",
       "      <th>Original_Book_Title</th>\n",
       "      <th>Book_Description</th>\n",
       "      <th>Genres</th>\n",
       "    </tr>\n",
       "  </thead>\n",
       "  <tbody>\n",
       "    <tr>\n",
       "      <th>0</th>\n",
       "      <td>I, Robot</td>\n",
       "      <td>Isaac Asimov's I, Robot launches readers on an...</td>\n",
       "      <td>{'Science Fiction': 6502, 'Fiction': 2523, 'Cl...</td>\n",
       "    </tr>\n",
       "  </tbody>\n",
       "</table>\n",
       "</div>"
      ],
      "text/plain": [
       "  Original_Book_Title                                   Book_Description  \\\n",
       "0            I, Robot  Isaac Asimov's I, Robot launches readers on an...   \n",
       "\n",
       "                                              Genres  \n",
       "0  {'Science Fiction': 6502, 'Fiction': 2523, 'Cl...  "
      ]
     },
     "execution_count": 2,
     "metadata": {},
     "output_type": "execute_result"
    }
   ],
   "source": [
    "df = pd.read_csv('data/sf_robots.csv', usecols=['Original_Book_Title', 'Book_Description', 'Genres']).dropna()\n",
    "print(df.shape)\n",
    "df.head(1)"
   ]
  },
  {
   "cell_type": "markdown",
   "id": "1459d7f1",
   "metadata": {},
   "source": [
    "#### Pré-processamento"
   ]
  },
  {
   "cell_type": "code",
   "execution_count": 3,
   "id": "d6978a0a",
   "metadata": {},
   "outputs": [],
   "source": [
    "def getGenres(genres: dict) -> str:\n",
    "    keys = list(genres.keys())\n",
    "    return ';'.join(keys)\n",
    "\n",
    "df['Genres'] = df['Genres'].apply(eval)\n",
    "df['Genres'] = df['Genres'].apply(getGenres)"
   ]
  },
  {
   "cell_type": "code",
   "execution_count": 4,
   "id": "3972a786",
   "metadata": {},
   "outputs": [],
   "source": [
    "count = df['Genres'].value_counts()\n",
    "valuesWithMoreThan5Examples = count[count >= 2].index\n",
    "sample = df[df['Genres'].isin(valuesWithMoreThan5Examples)]\n",
    "sample = sample.query('Genres!=\"None\"')"
   ]
  },
  {
   "cell_type": "markdown",
   "id": "93f08703",
   "metadata": {},
   "source": [
    "### Design Pattern 6: Multilabel\n",
    "\n",
    "- Usamos a abordagem one vs. rest que é uma técnica que consaiste em treinar um modelo binário para cada rótulo e é bom em lidar com classes raras."
   ]
  },
  {
   "cell_type": "markdown",
   "id": "aeeba958",
   "metadata": {},
   "source": [
    "#### Converter os rótulos"
   ]
  },
  {
   "cell_type": "code",
   "execution_count": 5,
   "id": "1ce289fc",
   "metadata": {},
   "outputs": [],
   "source": [
    "mlb = MultiLabelBinarizer()\n",
    "sample['Genres'] = sample['Genres'].apply(lambda x: [genre.strip() for genre in x.split(';')])\n",
    "y = mlb.fit_transform(sample['Genres'])"
   ]
  },
  {
   "cell_type": "markdown",
   "id": "278bbc70",
   "metadata": {},
   "source": [
    "#### Separar dados de treinamento e teste"
   ]
  },
  {
   "cell_type": "code",
   "execution_count": 6,
   "id": "2010b95b",
   "metadata": {},
   "outputs": [],
   "source": [
    "X_train, X_test, y_train, y_test = train_test_split(sample['Book_Description'],\n",
    "                                                    y,\n",
    "                                                    test_size=0.2,\n",
    "                                                    random_state=42)"
   ]
  },
  {
   "cell_type": "markdown",
   "id": "b968cc1a",
   "metadata": {},
   "source": [
    "#### Multilabel one vs. rest"
   ]
  },
  {
   "cell_type": "code",
   "execution_count": 7,
   "id": "2e702da1",
   "metadata": {},
   "outputs": [
    {
     "name": "stdout",
     "output_type": "stream",
     "text": [
      "Taxa média de erro na predição dos rótulos: 0.09\n",
      "Em média, 9% dos rótulos atribuídos pelo modelo estão incorretos.\n"
     ]
    }
   ],
   "source": [
    "pipeline = Pipeline([\n",
    "    ('tfidf', TfidfVectorizer(max_features=1000, stop_words='english')),\n",
    "    ('classifier', OneVsRestClassifier(LogisticRegression()))\n",
    "])\n",
    "\n",
    "pipeline.fit(X_train, y_train)\n",
    "y_pred = pipeline.predict(X_test)\n",
    "\n",
    "# Quanto menor o valor do Hamming Loss, melhor é o desempenho do modelo.\n",
    "hamming_loss_value = hamming_loss(y_test, y_pred)\n",
    "\n",
    "print(f'Taxa média de erro na predição dos rótulos: {hamming_loss_value:.2f}')\n",
    "print(f'Em média, {round(hamming_loss_value*100)}% dos rótulos atribuídos pelo modelo estão incorretos.')"
   ]
  },
  {
   "cell_type": "markdown",
   "id": "688a2ead",
   "metadata": {},
   "source": [
    "#### Teste"
   ]
  },
  {
   "cell_type": "code",
   "execution_count": 8,
   "id": "c093ab5e",
   "metadata": {
    "scrolled": false
   },
   "outputs": [
    {
     "name": "stdout",
     "output_type": "stream",
     "text": [
      "Para o primeiro exemplo de teste temos o livro *Mobile Robots: Inspiration to Implementation* que, originalmente, pertence ao(s) gênero(s) *Science Fiction (Robots)*\n"
     ]
    }
   ],
   "source": [
    "book = df['Original_Book_Title'][606]\n",
    "genre = df['Genres'][606].strip()\n",
    "print(f'Para o primeiro exemplo de teste temos o livro *{book}* que, originalmente, pertence ao(s) gênero(s) *{genre}*')"
   ]
  },
  {
   "cell_type": "code",
   "execution_count": 9,
   "id": "7e83325e",
   "metadata": {},
   "outputs": [
    {
     "name": "stdout",
     "output_type": "stream",
     "text": [
      "Para esse livro, nosso modelo previu que ele pertence ao(s) gênero(s) Science Fiction (Robots)\n"
     ]
    }
   ],
   "source": [
    "pred = pipeline.predict(X_test[:1].values)\n",
    "label = mlb.inverse_transform(pred)[0][0]\n",
    "print(f'Para esse livro, nosso modelo previu que ele pertence ao(s) gênero(s) {label}')"
   ]
  }
 ],
 "metadata": {
  "hide_input": false,
  "kernelspec": {
   "display_name": "Python 3 (ipykernel)",
   "language": "python",
   "name": "python3"
  },
  "language_info": {
   "codemirror_mode": {
    "name": "ipython",
    "version": 3
   },
   "file_extension": ".py",
   "mimetype": "text/x-python",
   "name": "python",
   "nbconvert_exporter": "python",
   "pygments_lexer": "ipython3",
   "version": "3.8.10"
  },
  "nbTranslate": {
   "displayLangs": [
    "*"
   ],
   "hotkey": "alt-t",
   "langInMainMenu": true,
   "sourceLang": "en",
   "targetLang": "fr",
   "useGoogleTranslate": true
  },
  "toc": {
   "base_numbering": 1,
   "nav_menu": {},
   "number_sections": true,
   "sideBar": true,
   "skip_h1_title": false,
   "title_cell": "Table of Contents",
   "title_sidebar": "Contents",
   "toc_cell": false,
   "toc_position": {},
   "toc_section_display": true,
   "toc_window_display": false
  },
  "varInspector": {
   "cols": {
    "lenName": 16,
    "lenType": 16,
    "lenVar": 40
   },
   "kernels_config": {
    "python": {
     "delete_cmd_postfix": "",
     "delete_cmd_prefix": "del ",
     "library": "var_list.py",
     "varRefreshCmd": "print(var_dic_list())"
    },
    "r": {
     "delete_cmd_postfix": ") ",
     "delete_cmd_prefix": "rm(",
     "library": "var_list.r",
     "varRefreshCmd": "cat(var_dic_list()) "
    }
   },
   "types_to_exclude": [
    "module",
    "function",
    "builtin_function_or_method",
    "instance",
    "_Feature"
   ],
   "window_display": false
  }
 },
 "nbformat": 4,
 "nbformat_minor": 5
}

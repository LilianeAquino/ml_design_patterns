{
 "cells": [
  {
   "cell_type": "markdown",
   "id": "7f6193b3",
   "metadata": {},
   "source": [
    "# Design Pattern 4: Multimodal Input\n",
    "\n",
    "> Aborda o problema de representar dados complexos e de tipos diferentes concatenando todas as representações"
   ]
  },
  {
   "cell_type": "markdown",
   "id": "25575721",
   "metadata": {},
   "source": [
    "### Bibliotecas"
   ]
  },
  {
   "cell_type": "code",
   "execution_count": 1,
   "id": "a5631637",
   "metadata": {},
   "outputs": [
    {
     "name": "stderr",
     "output_type": "stream",
     "text": [
      "2024-01-04 11:21:02.468591: I tensorflow/core/util/port.cc:110] oneDNN custom operations are on. You may see slightly different numerical results due to floating-point round-off errors from different computation orders. To turn them off, set the environment variable `TF_ENABLE_ONEDNN_OPTS=0`.\n",
      "2024-01-04 11:21:02.470521: I tensorflow/tsl/cuda/cudart_stub.cc:28] Could not find cuda drivers on your machine, GPU will not be used.\n",
      "2024-01-04 11:21:02.513158: I tensorflow/tsl/cuda/cudart_stub.cc:28] Could not find cuda drivers on your machine, GPU will not be used.\n",
      "2024-01-04 11:21:02.514365: I tensorflow/core/platform/cpu_feature_guard.cc:182] This TensorFlow binary is optimized to use available CPU instructions in performance-critical operations.\n",
      "To enable the following instructions: AVX2 AVX512F AVX512_VNNI FMA, in other operations, rebuild TensorFlow with the appropriate compiler flags.\n",
      "2024-01-04 11:21:03.292816: W tensorflow/compiler/tf2tensorrt/utils/py_utils.cc:38] TF-TRT Warning: Could not find TensorRT\n"
     ]
    }
   ],
   "source": [
    "import pandas as pd\n",
    "from sklearn.model_selection import train_test_split\n",
    "from sklearn.preprocessing import LabelEncoder\n",
    "from tensorflow.keras.preprocessing.text import Tokenizer\n",
    "from tensorflow.keras.preprocessing.sequence import pad_sequences\n",
    "from tensorflow.keras.models import Model\n",
    "from tensorflow.keras.layers import Input, Embedding, Flatten, Dense, concatenate"
   ]
  },
  {
   "cell_type": "markdown",
   "id": "9a67ee83",
   "metadata": {},
   "source": [
    "### Base de exemplo"
   ]
  },
  {
   "cell_type": "code",
   "execution_count": 2,
   "id": "e29b20d5",
   "metadata": {},
   "outputs": [
    {
     "name": "stdout",
     "output_type": "stream",
     "text": [
      "(24505, 6)\n"
     ]
    },
    {
     "data": {
      "text/html": [
       "<div>\n",
       "<style scoped>\n",
       "    .dataframe tbody tr th:only-of-type {\n",
       "        vertical-align: middle;\n",
       "    }\n",
       "\n",
       "    .dataframe tbody tr th {\n",
       "        vertical-align: top;\n",
       "    }\n",
       "\n",
       "    .dataframe thead th {\n",
       "        text-align: right;\n",
       "    }\n",
       "</style>\n",
       "<table border=\"1\" class=\"dataframe\">\n",
       "  <thead>\n",
       "    <tr style=\"text-align: right;\">\n",
       "      <th></th>\n",
       "      <th>Author</th>\n",
       "      <th>Rating</th>\n",
       "      <th>Review</th>\n",
       "      <th>Restaurant</th>\n",
       "      <th>Location</th>\n",
       "      <th>classe</th>\n",
       "    </tr>\n",
       "  </thead>\n",
       "  <tbody>\n",
       "    <tr>\n",
       "      <th>0</th>\n",
       "      <td>Jia Pin Lee</td>\n",
       "      <td>4.0</td>\n",
       "      <td>Came here for the High Tea. Great service espe...</td>\n",
       "      <td>Cuisines Restaurant</td>\n",
       "      <td>Jalan Haven The Haven All Suite Resort Tambun,...</td>\n",
       "      <td>good</td>\n",
       "    </tr>\n",
       "    <tr>\n",
       "      <th>1</th>\n",
       "      <td>Chui Yi Lum</td>\n",
       "      <td>2.0</td>\n",
       "      <td>5 stars for the service, even though some of t...</td>\n",
       "      <td>Cuisines Restaurant</td>\n",
       "      <td>Jalan Haven The Haven All Suite Resort Tambun,...</td>\n",
       "      <td>bad</td>\n",
       "    </tr>\n",
       "    <tr>\n",
       "      <th>2</th>\n",
       "      <td>liezel wong</td>\n",
       "      <td>1.0</td>\n",
       "      <td>Hi, thank you for your service. But! i feel so...</td>\n",
       "      <td>Cuisines Restaurant</td>\n",
       "      <td>Jalan Haven The Haven All Suite Resort Tambun,...</td>\n",
       "      <td>bad</td>\n",
       "    </tr>\n",
       "    <tr>\n",
       "      <th>3</th>\n",
       "      <td>Nazri Nor</td>\n",
       "      <td>1.0</td>\n",
       "      <td>I have the worse buffer dinner ever so far. Th...</td>\n",
       "      <td>Cuisines Restaurant</td>\n",
       "      <td>Jalan Haven The Haven All Suite Resort Tambun,...</td>\n",
       "      <td>bad</td>\n",
       "    </tr>\n",
       "    <tr>\n",
       "      <th>4</th>\n",
       "      <td>Fakru Imran's Channel</td>\n",
       "      <td>5.0</td>\n",
       "      <td>That's are Known 5 Elmark \" 9H72 \" &amp; KDK \" 3 K...</td>\n",
       "      <td>Cuisines Restaurant</td>\n",
       "      <td>Jalan Haven The Haven All Suite Resort Tambun,...</td>\n",
       "      <td>good</td>\n",
       "    </tr>\n",
       "  </tbody>\n",
       "</table>\n",
       "</div>"
      ],
      "text/plain": [
       "                  Author  Rating  \\\n",
       "0            Jia Pin Lee     4.0   \n",
       "1            Chui Yi Lum     2.0   \n",
       "2            liezel wong     1.0   \n",
       "3              Nazri Nor     1.0   \n",
       "4  Fakru Imran's Channel     5.0   \n",
       "\n",
       "                                              Review           Restaurant  \\\n",
       "0  Came here for the High Tea. Great service espe...  Cuisines Restaurant   \n",
       "1  5 stars for the service, even though some of t...  Cuisines Restaurant   \n",
       "2  Hi, thank you for your service. But! i feel so...  Cuisines Restaurant   \n",
       "3  I have the worse buffer dinner ever so far. Th...  Cuisines Restaurant   \n",
       "4  That's are Known 5 Elmark \" 9H72 \" & KDK \" 3 K...  Cuisines Restaurant   \n",
       "\n",
       "                                            Location classe  \n",
       "0  Jalan Haven The Haven All Suite Resort Tambun,...   good  \n",
       "1  Jalan Haven The Haven All Suite Resort Tambun,...    bad  \n",
       "2  Jalan Haven The Haven All Suite Resort Tambun,...    bad  \n",
       "3  Jalan Haven The Haven All Suite Resort Tambun,...    bad  \n",
       "4  Jalan Haven The Haven All Suite Resort Tambun,...   good  "
      ]
     },
     "execution_count": 2,
     "metadata": {},
     "output_type": "execute_result"
    }
   ],
   "source": [
    "df = pd.read_csv('data/review.csv')\n",
    "df.dropna(inplace=True)\n",
    "print(df.shape)\n",
    "df.head()"
   ]
  },
  {
   "cell_type": "markdown",
   "id": "93f08703",
   "metadata": {},
   "source": [
    "### Design Pattern 4: Multimodal Input\n",
    "\n",
    "- Converta as características para um formato aceitável para o modelo\n",
    "- Combine as saídas da etapa anterior\n",
    "- Adicione ao modelo"
   ]
  },
  {
   "cell_type": "code",
   "execution_count": 3,
   "id": "c760c87e",
   "metadata": {},
   "outputs": [],
   "source": [
    "train_df, test_df = train_test_split(df, test_size=0.2, random_state=42)\n",
    "\n",
    "tokenizer = Tokenizer()\n",
    "tokenizer.fit_on_texts(train_df['Review'])\n",
    "vocab_size = len(tokenizer.word_index) + 1\n",
    "\n",
    "train_sequences = tokenizer.texts_to_sequences(train_df['Review'])\n",
    "test_sequences = tokenizer.texts_to_sequences(test_df['Review'])\n",
    "\n",
    "\n",
    "max_length = 20\n",
    "train_padded = pad_sequences(train_sequences, maxlen=max_length, padding='post')\n",
    "test_padded = pad_sequences(test_sequences, maxlen=max_length, padding='post')"
   ]
  },
  {
   "cell_type": "code",
   "execution_count": 4,
   "id": "eb9b279d",
   "metadata": {},
   "outputs": [],
   "source": [
    "text_input = Input(shape=(max_length,))\n",
    "embedding_layer = Embedding(input_dim=vocab_size, output_dim=8, input_length=max_length)(text_input)\n",
    "flattened_text = Flatten()(embedding_layer)\n",
    "\n",
    "numeric_input = Input(shape=(1,))\n",
    "dense_rating = Dense(8, activation='relu')(numeric_input)\n",
    "# padrão de entrada multimodal\n",
    "concatenated_input = concatenate([flattened_text, dense_rating])"
   ]
  },
  {
   "cell_type": "code",
   "execution_count": 5,
   "id": "2ffc928d",
   "metadata": {},
   "outputs": [
    {
     "name": "stdout",
     "output_type": "stream",
     "text": [
      "Model: \"model\"\n",
      "__________________________________________________________________________________________________\n",
      " Layer (type)                Output Shape                 Param #   Connected to                  \n",
      "==================================================================================================\n",
      " input_1 (InputLayer)        [(None, 20)]                 0         []                            \n",
      "                                                                                                  \n",
      " embedding (Embedding)       (None, 20, 8)                163312    ['input_1[0][0]']             \n",
      "                                                                                                  \n",
      " input_2 (InputLayer)        [(None, 1)]                  0         []                            \n",
      "                                                                                                  \n",
      " flatten (Flatten)           (None, 160)                  0         ['embedding[0][0]']           \n",
      "                                                                                                  \n",
      " dense (Dense)               (None, 8)                    16        ['input_2[0][0]']             \n",
      "                                                                                                  \n",
      " concatenate (Concatenate)   (None, 168)                  0         ['flatten[0][0]',             \n",
      "                                                                     'dense[0][0]']               \n",
      "                                                                                                  \n",
      " dense_1 (Dense)             (None, 16)                   2704      ['concatenate[0][0]']         \n",
      "                                                                                                  \n",
      " dense_2 (Dense)             (None, 1)                    17        ['dense_1[0][0]']             \n",
      "                                                                                                  \n",
      "==================================================================================================\n",
      "Total params: 166049 (648.63 KB)\n",
      "Trainable params: 166049 (648.63 KB)\n",
      "Non-trainable params: 0 (0.00 Byte)\n",
      "__________________________________________________________________________________________________\n"
     ]
    }
   ],
   "source": [
    "dense_combined = Dense(16, activation='relu')(concatenated_input)\n",
    "output_layer = Dense(1, activation='sigmoid')(dense_combined)\n",
    "\n",
    "model = Model(inputs=[text_input, numeric_input], outputs=output_layer)\n",
    "model.compile(optimizer='adam', loss='binary_crossentropy', metrics=['accuracy'])\n",
    "model.summary()"
   ]
  }
 ],
 "metadata": {
  "hide_input": false,
  "kernelspec": {
   "display_name": "Python 3 (ipykernel)",
   "language": "python",
   "name": "python3"
  },
  "language_info": {
   "codemirror_mode": {
    "name": "ipython",
    "version": 3
   },
   "file_extension": ".py",
   "mimetype": "text/x-python",
   "name": "python",
   "nbconvert_exporter": "python",
   "pygments_lexer": "ipython3",
   "version": "3.8.10"
  },
  "nbTranslate": {
   "displayLangs": [
    "*"
   ],
   "hotkey": "alt-t",
   "langInMainMenu": true,
   "sourceLang": "en",
   "targetLang": "fr",
   "useGoogleTranslate": true
  },
  "toc": {
   "base_numbering": 1,
   "nav_menu": {},
   "number_sections": true,
   "sideBar": true,
   "skip_h1_title": false,
   "title_cell": "Table of Contents",
   "title_sidebar": "Contents",
   "toc_cell": false,
   "toc_position": {},
   "toc_section_display": true,
   "toc_window_display": false
  },
  "varInspector": {
   "cols": {
    "lenName": 16,
    "lenType": 16,
    "lenVar": 40
   },
   "kernels_config": {
    "python": {
     "delete_cmd_postfix": "",
     "delete_cmd_prefix": "del ",
     "library": "var_list.py",
     "varRefreshCmd": "print(var_dic_list())"
    },
    "r": {
     "delete_cmd_postfix": ") ",
     "delete_cmd_prefix": "rm(",
     "library": "var_list.r",
     "varRefreshCmd": "cat(var_dic_list()) "
    }
   },
   "types_to_exclude": [
    "module",
    "function",
    "builtin_function_or_method",
    "instance",
    "_Feature"
   ],
   "window_display": false
  }
 },
 "nbformat": 4,
 "nbformat_minor": 5
}

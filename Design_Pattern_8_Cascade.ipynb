{
 "cells": [
  {
   "cell_type": "markdown",
   "id": "7f6193b3",
   "metadata": {},
   "source": [
    "# Design Pattern 8: Cascade\n",
    "\n",
    "> Aborda situações em que um problema de ML pode ser dividido de maneira lucrativa em uma série de problemas de ML."
   ]
  },
  {
   "cell_type": "markdown",
   "id": "25575721",
   "metadata": {},
   "source": [
    "### Bibliotecas"
   ]
  },
  {
   "cell_type": "code",
   "execution_count": 1,
   "id": "a5631637",
   "metadata": {},
   "outputs": [],
   "source": [
    "import pandas as pd\n",
    "import numpy as np\n",
    "import warnings\n",
    "\n",
    "from sklearn.model_selection import train_test_split\n",
    "from sklearn.pipeline import Pipeline\n",
    "from sklearn.preprocessing import LabelEncoder\n",
    "from sklearn.compose import ColumnTransformer\n",
    "from sklearn.preprocessing import StandardScaler\n",
    "from sklearn.feature_extraction.text import TfidfVectorizer\n",
    "from sklearn.ensemble import RandomForestClassifier\n",
    "from sklearn.metrics import accuracy_score\n",
    "\n",
    "warnings.filterwarnings('ignore')"
   ]
  },
  {
   "cell_type": "markdown",
   "id": "9a67ee83",
   "metadata": {},
   "source": [
    "### Base de dados\n",
    "\n",
    "- Distance_meters: distancia percorrida em metros\n",
    "- month_rental, day_rented, hour_rented: mês, dia e hora em que a pessoa alugou\n",
    "- Duration_hour: tempo que durou o aluguel\n",
    "- temp, wind e humid: é sobre o clima no dia do aluguel"
   ]
  },
  {
   "cell_type": "code",
   "execution_count": 2,
   "id": "e29b20d5",
   "metadata": {},
   "outputs": [
    {
     "name": "stdout",
     "output_type": "stream",
     "text": [
      "Linhas: 10000 | Colunas: 10\n"
     ]
    },
    {
     "data": {
      "text/html": [
       "<div>\n",
       "<style scoped>\n",
       "    .dataframe tbody tr th:only-of-type {\n",
       "        vertical-align: middle;\n",
       "    }\n",
       "\n",
       "    .dataframe tbody tr th {\n",
       "        vertical-align: top;\n",
       "    }\n",
       "\n",
       "    .dataframe thead th {\n",
       "        text-align: right;\n",
       "    }\n",
       "</style>\n",
       "<table border=\"1\" class=\"dataframe\">\n",
       "  <thead>\n",
       "    <tr style=\"text-align: right;\">\n",
       "      <th></th>\n",
       "      <th>duration_hour</th>\n",
       "      <th>distance_meters</th>\n",
       "      <th>month_rental</th>\n",
       "      <th>day_rented</th>\n",
       "      <th>hour_rented</th>\n",
       "      <th>temp</th>\n",
       "      <th>wind</th>\n",
       "      <th>humid</th>\n",
       "      <th>distance_type</th>\n",
       "      <th>rental</th>\n",
       "    </tr>\n",
       "  </thead>\n",
       "  <tbody>\n",
       "    <tr>\n",
       "      <th>0</th>\n",
       "      <td>8</td>\n",
       "      <td>2</td>\n",
       "      <td>12</td>\n",
       "      <td>11</td>\n",
       "      <td>5</td>\n",
       "      <td>-2.1</td>\n",
       "      <td>0.5</td>\n",
       "      <td>39.0</td>\n",
       "      <td>short</td>\n",
       "      <td>typical</td>\n",
       "    </tr>\n",
       "    <tr>\n",
       "      <th>1</th>\n",
       "      <td>16</td>\n",
       "      <td>2</td>\n",
       "      <td>12</td>\n",
       "      <td>14</td>\n",
       "      <td>23</td>\n",
       "      <td>-5.2</td>\n",
       "      <td>0.2</td>\n",
       "      <td>47.0</td>\n",
       "      <td>short</td>\n",
       "      <td>typical</td>\n",
       "    </tr>\n",
       "    <tr>\n",
       "      <th>2</th>\n",
       "      <td>22</td>\n",
       "      <td>4</td>\n",
       "      <td>12</td>\n",
       "      <td>7</td>\n",
       "      <td>13</td>\n",
       "      <td>-5.8</td>\n",
       "      <td>5.4</td>\n",
       "      <td>20.0</td>\n",
       "      <td>short</td>\n",
       "      <td>typical</td>\n",
       "    </tr>\n",
       "    <tr>\n",
       "      <th>3</th>\n",
       "      <td>10</td>\n",
       "      <td>5</td>\n",
       "      <td>12</td>\n",
       "      <td>13</td>\n",
       "      <td>16</td>\n",
       "      <td>0.5</td>\n",
       "      <td>4.2</td>\n",
       "      <td>35.0</td>\n",
       "      <td>short</td>\n",
       "      <td>typical</td>\n",
       "    </tr>\n",
       "    <tr>\n",
       "      <th>4</th>\n",
       "      <td>4</td>\n",
       "      <td>10</td>\n",
       "      <td>6</td>\n",
       "      <td>1</td>\n",
       "      <td>19</td>\n",
       "      <td>26.8</td>\n",
       "      <td>1.9</td>\n",
       "      <td>35.0</td>\n",
       "      <td>short</td>\n",
       "      <td>typical</td>\n",
       "    </tr>\n",
       "  </tbody>\n",
       "</table>\n",
       "</div>"
      ],
      "text/plain": [
       "   duration_hour  distance_meters  month_rental  day_rented  hour_rented  \\\n",
       "0              8                2            12          11            5   \n",
       "1             16                2            12          14           23   \n",
       "2             22                4            12           7           13   \n",
       "3             10                5            12          13           16   \n",
       "4              4               10             6           1           19   \n",
       "\n",
       "   temp  wind  humid distance_type   rental  \n",
       "0  -2.1   0.5   39.0         short  typical  \n",
       "1  -5.2   0.2   47.0         short  typical  \n",
       "2  -5.8   5.4   20.0         short  typical  \n",
       "3   0.5   4.2   35.0         short  typical  \n",
       "4  26.8   1.9   35.0         short  typical  "
      ]
     },
     "execution_count": 2,
     "metadata": {},
     "output_type": "execute_result"
    }
   ],
   "source": [
    "df = pd.read_csv('data/seoul_bike_trip.csv')\n",
    "print(f'Linhas: {df.shape[0]} | Colunas: {df.shape[1]}')\n",
    "df.head()"
   ]
  },
  {
   "cell_type": "markdown",
   "id": "7b0b46d8",
   "metadata": {},
   "source": [
    "### Passo 1: Modelo de classificação para definir a distância (curta ou longa)"
   ]
  },
  {
   "cell_type": "code",
   "execution_count": 3,
   "id": "879ad071",
   "metadata": {},
   "outputs": [],
   "source": [
    "X_dist = df.drop(columns=['distance_type', 'rental'])\n",
    "y_dist = df['distance_type']\n",
    "\n",
    "X_train_dist, X_test_dist, y_train_dist, y_test_dist = train_test_split(X_dist, y_dist, test_size=0.2, random_state=42)"
   ]
  },
  {
   "cell_type": "code",
   "execution_count": 4,
   "id": "4b76802b",
   "metadata": {},
   "outputs": [],
   "source": [
    "pipeline_classify = Pipeline([\n",
    "    ('vectorizer', StandardScaler()),\n",
    "    ('classifier', RandomForestClassifier(random_state=42))\n",
    "])\n",
    "\n",
    "_ = pipeline_classify.fit(X_train_dist, y_train_dist)"
   ]
  },
  {
   "cell_type": "markdown",
   "id": "120adaf4",
   "metadata": {},
   "source": [
    "### Passo 2: Utilizando as previsões do modelo de classificação para criar os datasets de treinamento dos modelos seguintes"
   ]
  },
  {
   "cell_type": "code",
   "execution_count": 5,
   "id": "79088771",
   "metadata": {},
   "outputs": [
    {
     "data": {
      "text/html": [
       "<div>\n",
       "<style scoped>\n",
       "    .dataframe tbody tr th:only-of-type {\n",
       "        vertical-align: middle;\n",
       "    }\n",
       "\n",
       "    .dataframe tbody tr th {\n",
       "        vertical-align: top;\n",
       "    }\n",
       "\n",
       "    .dataframe thead th {\n",
       "        text-align: right;\n",
       "    }\n",
       "</style>\n",
       "<table border=\"1\" class=\"dataframe\">\n",
       "  <thead>\n",
       "    <tr style=\"text-align: right;\">\n",
       "      <th></th>\n",
       "      <th>duration_hour</th>\n",
       "      <th>distance_meters</th>\n",
       "      <th>month_rental</th>\n",
       "      <th>day_rented</th>\n",
       "      <th>hour_rented</th>\n",
       "      <th>temp</th>\n",
       "      <th>wind</th>\n",
       "      <th>humid</th>\n",
       "      <th>Predictions</th>\n",
       "    </tr>\n",
       "  </thead>\n",
       "  <tbody>\n",
       "    <tr>\n",
       "      <th>160</th>\n",
       "      <td>2</td>\n",
       "      <td>160</td>\n",
       "      <td>6</td>\n",
       "      <td>7</td>\n",
       "      <td>21</td>\n",
       "      <td>21.5</td>\n",
       "      <td>2.6</td>\n",
       "      <td>69.0</td>\n",
       "      <td>short</td>\n",
       "    </tr>\n",
       "  </tbody>\n",
       "</table>\n",
       "</div>"
      ],
      "text/plain": [
       "     duration_hour  distance_meters  month_rental  day_rented  hour_rented  \\\n",
       "160              2              160             6           7           21   \n",
       "\n",
       "     temp  wind  humid Predictions  \n",
       "160  21.5   2.6   69.0       short  "
      ]
     },
     "execution_count": 5,
     "metadata": {},
     "output_type": "execute_result"
    }
   ],
   "source": [
    "predictions = pipeline_classify.predict(X_test_dist)\n",
    "\n",
    "X_test_concatenated = pd.concat([X_test_dist.reset_index(drop=True), pd.Series(predictions, name='Predictions')], axis=1)\n",
    "X_test_concatenated.sample()"
   ]
  },
  {
   "cell_type": "code",
   "execution_count": 6,
   "id": "a5a70721",
   "metadata": {},
   "outputs": [
    {
     "data": {
      "text/html": [
       "<div>\n",
       "<style scoped>\n",
       "    .dataframe tbody tr th:only-of-type {\n",
       "        vertical-align: middle;\n",
       "    }\n",
       "\n",
       "    .dataframe tbody tr th {\n",
       "        vertical-align: top;\n",
       "    }\n",
       "\n",
       "    .dataframe thead th {\n",
       "        text-align: right;\n",
       "    }\n",
       "</style>\n",
       "<table border=\"1\" class=\"dataframe\">\n",
       "  <thead>\n",
       "    <tr style=\"text-align: right;\">\n",
       "      <th></th>\n",
       "      <th>duration_hour</th>\n",
       "      <th>distance_meters</th>\n",
       "      <th>month_rental</th>\n",
       "      <th>day_rented</th>\n",
       "      <th>hour_rented</th>\n",
       "      <th>temp</th>\n",
       "      <th>wind</th>\n",
       "      <th>humid</th>\n",
       "      <th>Predictions</th>\n",
       "      <th>rental</th>\n",
       "    </tr>\n",
       "  </thead>\n",
       "  <tbody>\n",
       "    <tr>\n",
       "      <th>267</th>\n",
       "      <td>10</td>\n",
       "      <td>2280</td>\n",
       "      <td>9</td>\n",
       "      <td>10</td>\n",
       "      <td>8</td>\n",
       "      <td>20.1</td>\n",
       "      <td>1.6</td>\n",
       "      <td>57.0</td>\n",
       "      <td>short</td>\n",
       "      <td>typical</td>\n",
       "    </tr>\n",
       "  </tbody>\n",
       "</table>\n",
       "</div>"
      ],
      "text/plain": [
       "     duration_hour  distance_meters  month_rental  day_rented  hour_rented  \\\n",
       "267             10             2280             9          10            8   \n",
       "\n",
       "     temp  wind  humid Predictions   rental  \n",
       "267  20.1   1.6   57.0       short  typical  "
      ]
     },
     "execution_count": 6,
     "metadata": {},
     "output_type": "execute_result"
    }
   ],
   "source": [
    "rental_map = {'long': 'no_typical', 'short': 'typical'}\n",
    "X_typical = X_test_concatenated.copy()\n",
    "X_typical['rental'] = X_typical['Predictions'].map(rental_map)\n",
    "X_typical.sample()"
   ]
  },
  {
   "cell_type": "code",
   "execution_count": 7,
   "id": "e97b5a2a",
   "metadata": {},
   "outputs": [
    {
     "data": {
      "text/html": [
       "<div>\n",
       "<style scoped>\n",
       "    .dataframe tbody tr th:only-of-type {\n",
       "        vertical-align: middle;\n",
       "    }\n",
       "\n",
       "    .dataframe tbody tr th {\n",
       "        vertical-align: top;\n",
       "    }\n",
       "\n",
       "    .dataframe thead th {\n",
       "        text-align: right;\n",
       "    }\n",
       "</style>\n",
       "<table border=\"1\" class=\"dataframe\">\n",
       "  <thead>\n",
       "    <tr style=\"text-align: right;\">\n",
       "      <th></th>\n",
       "      <th>duration_hour</th>\n",
       "      <th>distance_meters</th>\n",
       "      <th>month_rental</th>\n",
       "      <th>day_rented</th>\n",
       "      <th>hour_rented</th>\n",
       "      <th>temp</th>\n",
       "      <th>wind</th>\n",
       "      <th>humid</th>\n",
       "      <th>Predictions</th>\n",
       "      <th>rental</th>\n",
       "    </tr>\n",
       "  </thead>\n",
       "  <tbody>\n",
       "    <tr>\n",
       "      <th>216</th>\n",
       "      <td>20</td>\n",
       "      <td>3490</td>\n",
       "      <td>12</td>\n",
       "      <td>29</td>\n",
       "      <td>9</td>\n",
       "      <td>-9.8</td>\n",
       "      <td>2.4</td>\n",
       "      <td>26.0</td>\n",
       "      <td>short</td>\n",
       "      <td>no_unusual</td>\n",
       "    </tr>\n",
       "  </tbody>\n",
       "</table>\n",
       "</div>"
      ],
      "text/plain": [
       "     duration_hour  distance_meters  month_rental  day_rented  hour_rented  \\\n",
       "216             20             3490            12          29            9   \n",
       "\n",
       "     temp  wind  humid Predictions      rental  \n",
       "216  -9.8   2.4   26.0       short  no_unusual  "
      ]
     },
     "execution_count": 7,
     "metadata": {},
     "output_type": "execute_result"
    }
   ],
   "source": [
    "rental_map = {'long': 'unusual', 'short': 'no_unusual'}\n",
    "X_unusual = X_test_concatenated.copy()\n",
    "X_unusual['rental'] = X_unusual['Predictions'].map(rental_map)\n",
    "X_unusual.sample()"
   ]
  },
  {
   "cell_type": "markdown",
   "id": "eb7bf1e0",
   "metadata": {},
   "source": [
    "### Passo 3: Treinamento do modelo para aluguel usual"
   ]
  },
  {
   "cell_type": "code",
   "execution_count": 8,
   "id": "f87b0c51",
   "metadata": {},
   "outputs": [],
   "source": [
    "X = X_typical.drop(['Predictions', 'rental'], axis=1)\n",
    "y = X_typical['rental'].values\n",
    "\n",
    "X_train, X_test, y_train, y_test = train_test_split(X, y, test_size=0.1, random_state=42)"
   ]
  },
  {
   "cell_type": "code",
   "execution_count": 9,
   "id": "b82b524a",
   "metadata": {},
   "outputs": [],
   "source": [
    "pipeline_typical_model = Pipeline([\n",
    "    ('vectorizer', StandardScaler()),\n",
    "    ('classifier', RandomForestClassifier(random_state=42))\n",
    "])\n",
    "\n",
    "_ = pipeline_typical_model.fit(X_train, y_train)"
   ]
  },
  {
   "cell_type": "markdown",
   "id": "0bead3c3",
   "metadata": {},
   "source": [
    "### Passo 3: Treinamento do modelo para aluguel incomum"
   ]
  },
  {
   "cell_type": "code",
   "execution_count": 10,
   "id": "f47405d4",
   "metadata": {},
   "outputs": [],
   "source": [
    "X = X_unusual.drop(['Predictions', 'rental'], axis=1)\n",
    "y = X_unusual['rental'].values\n",
    "\n",
    "X_train, X_test, y_train, y_test = train_test_split(X, y, test_size=0.1, random_state=42)"
   ]
  },
  {
   "cell_type": "code",
   "execution_count": 11,
   "id": "ec91fd18",
   "metadata": {},
   "outputs": [],
   "source": [
    "pipeline_unusual_model = Pipeline([\n",
    "    ('vectorizer', StandardScaler()),\n",
    "    ('classifier', RandomForestClassifier(random_state=42))\n",
    "])\n",
    "\n",
    "_ = pipeline_unusual_model.fit(X_train, y_train)"
   ]
  },
  {
   "cell_type": "markdown",
   "id": "f285ba4e",
   "metadata": {},
   "source": [
    "### Função para previsão da duração do aluguel"
   ]
  },
  {
   "cell_type": "code",
   "execution_count": 12,
   "id": "c2d895d3",
   "metadata": {},
   "outputs": [
    {
     "name": "stdout",
     "output_type": "stream",
     "text": [
      "Exemplo de previsão típico: typical\n",
      "Exemplo de previsão incomum: unusual\n"
     ]
    }
   ],
   "source": [
    "def predict_rental_duration(duration_hour: int, distance_meters: str, month_rental: str, day_rented: int, hour_rented: int, temp: int, wind: int, humid: int):\n",
    "    rental_type = pipeline_classify.predict([[duration_hour, distance_meters, month_rental, day_rented, hour_rented, temp, wind, humid]])\n",
    "    \n",
    "    if rental_type == 'short':\n",
    "        return pipeline_typical_model.predict([[duration_hour, distance_meters, month_rental, day_rented, hour_rented, temp, wind, humid]])[0]\n",
    "    else:\n",
    "        return pipeline_unusual_model.predict([[duration_hour, distance_meters, month_rental, day_rented, hour_rented, temp, wind, humid]])[0]\n",
    "\n",
    "\n",
    "print('Exemplo de previsão típico:', predict_rental_duration(5.5, 6.8, 3, 4, 8, 3.9, 0.2, 40.))\n",
    "print('Exemplo de previsão incomum:', predict_rental_duration(200, 50000, 3, 4, 8, 3.9, 0.2, 40.))"
   ]
  }
 ],
 "metadata": {
  "hide_input": false,
  "kernelspec": {
   "display_name": "Python 3 (ipykernel)",
   "language": "python",
   "name": "python3"
  },
  "language_info": {
   "codemirror_mode": {
    "name": "ipython",
    "version": 3
   },
   "file_extension": ".py",
   "mimetype": "text/x-python",
   "name": "python",
   "nbconvert_exporter": "python",
   "pygments_lexer": "ipython3",
   "version": "3.8.10"
  },
  "nbTranslate": {
   "displayLangs": [
    "*"
   ],
   "hotkey": "alt-t",
   "langInMainMenu": true,
   "sourceLang": "en",
   "targetLang": "fr",
   "useGoogleTranslate": true
  },
  "toc": {
   "base_numbering": 1,
   "nav_menu": {},
   "number_sections": true,
   "sideBar": true,
   "skip_h1_title": false,
   "title_cell": "Table of Contents",
   "title_sidebar": "Contents",
   "toc_cell": false,
   "toc_position": {},
   "toc_section_display": true,
   "toc_window_display": false
  },
  "varInspector": {
   "cols": {
    "lenName": 16,
    "lenType": 16,
    "lenVar": 40
   },
   "kernels_config": {
    "python": {
     "delete_cmd_postfix": "",
     "delete_cmd_prefix": "del ",
     "library": "var_list.py",
     "varRefreshCmd": "print(var_dic_list())"
    },
    "r": {
     "delete_cmd_postfix": ") ",
     "delete_cmd_prefix": "rm(",
     "library": "var_list.r",
     "varRefreshCmd": "cat(var_dic_list()) "
    }
   },
   "types_to_exclude": [
    "module",
    "function",
    "builtin_function_or_method",
    "instance",
    "_Feature"
   ],
   "window_display": false
  }
 },
 "nbformat": 4,
 "nbformat_minor": 5
}

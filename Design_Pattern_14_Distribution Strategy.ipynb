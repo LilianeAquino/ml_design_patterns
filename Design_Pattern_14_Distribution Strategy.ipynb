{
 "cells": [
  {
   "cell_type": "markdown",
   "id": "7f6193b3",
   "metadata": {},
   "source": [
    "# Design Pattern 14: Distribution Strategy\n",
    "\n",
    "> O ciclo de treinamento é realizado em escala com vários workers, geralmente com cache, aceleração de hardware e paralelização."
   ]
  },
  {
   "cell_type": "markdown",
   "id": "234bfb8a",
   "metadata": {},
   "source": [
    "#### Bibliotecas"
   ]
  },
  {
   "cell_type": "code",
   "execution_count": 1,
   "id": "b1724ff2",
   "metadata": {},
   "outputs": [
    {
     "name": "stderr",
     "output_type": "stream",
     "text": [
      "2024-08-07 18:43:07.974331: I tensorflow/core/util/port.cc:110] oneDNN custom operations are on. You may see slightly different numerical results due to floating-point round-off errors from different computation orders. To turn them off, set the environment variable `TF_ENABLE_ONEDNN_OPTS=0`.\n",
      "2024-08-07 18:43:07.975563: I tensorflow/tsl/cuda/cudart_stub.cc:28] Could not find cuda drivers on your machine, GPU will not be used.\n",
      "2024-08-07 18:43:08.001397: I tensorflow/tsl/cuda/cudart_stub.cc:28] Could not find cuda drivers on your machine, GPU will not be used.\n",
      "2024-08-07 18:43:08.002014: I tensorflow/core/platform/cpu_feature_guard.cc:182] This TensorFlow binary is optimized to use available CPU instructions in performance-critical operations.\n",
      "To enable the following instructions: AVX2 AVX512F AVX512_VNNI FMA, in other operations, rebuild TensorFlow with the appropriate compiler flags.\n",
      "2024-08-07 18:43:08.703107: W tensorflow/compiler/tf2tensorrt/utils/py_utils.cc:38] TF-TRT Warning: Could not find TensorRT\n"
     ]
    }
   ],
   "source": [
    "import tensorflow as tf\n",
    "import numpy as np"
   ]
  },
  {
   "cell_type": "markdown",
   "id": "75d02812",
   "metadata": {},
   "source": [
    "#### Simulando dados de exemplos"
   ]
  },
  {
   "cell_type": "code",
   "execution_count": 2,
   "id": "15b77924",
   "metadata": {},
   "outputs": [],
   "source": [
    "num_samples = 10000\n",
    "num_features = 28 * 28\n",
    "num_classes = 10\n",
    "\n",
    "X_train = np.random.rand(num_samples, num_features).astype(np.float32)\n",
    "y_train = np.random.randint(0, num_classes, size=num_samples)"
   ]
  },
  {
   "cell_type": "markdown",
   "id": "611f7605",
   "metadata": {},
   "source": [
    "#### Modelagem"
   ]
  },
  {
   "cell_type": "code",
   "execution_count": 3,
   "id": "6b16fba1",
   "metadata": {},
   "outputs": [],
   "source": [
    "def create_model():\n",
    "    model = tf.keras.Sequential([\n",
    "        tf.keras.layers.Dense(512, activation='relu', input_shape=(num_features,)),\n",
    "        tf.keras.layers.Dense(num_classes, activation='softmax')\n",
    "    ])\n",
    "    return model"
   ]
  },
  {
   "cell_type": "markdown",
   "id": "203e2100",
   "metadata": {},
   "source": [
    "### Usando MirroredStrategy para distribuir o treinamento em múltiplas GPUs"
   ]
  },
  {
   "cell_type": "code",
   "execution_count": 4,
   "id": "d78ccce7",
   "metadata": {},
   "outputs": [
    {
     "name": "stdout",
     "output_type": "stream",
     "text": [
      "INFO:tensorflow:Using MirroredStrategy with devices ('/job:localhost/replica:0/task:0/device:CPU:0',)\n",
      "Epoch 1/10\n"
     ]
    },
    {
     "name": "stderr",
     "output_type": "stream",
     "text": [
      "2024-08-07 18:43:09.774417: W tensorflow/core/framework/dataset.cc:956] Input of GeneratorDatasetOp::Dataset will not be optimized because the dataset does not implement the AsGraphDefInternal() method needed to apply optimizations.\n"
     ]
    },
    {
     "name": "stdout",
     "output_type": "stream",
     "text": [
      "157/157 [==============================] - 1s 3ms/step - loss: 2.3529 - accuracy: 0.0984\n",
      "Epoch 2/10\n",
      "157/157 [==============================] - 0s 3ms/step - loss: 2.3034 - accuracy: 0.1058\n",
      "Epoch 3/10\n",
      "157/157 [==============================] - 1s 3ms/step - loss: 2.3026 - accuracy: 0.1071\n",
      "Epoch 4/10\n",
      "157/157 [==============================] - 0s 3ms/step - loss: 2.2999 - accuracy: 0.1155\n",
      "Epoch 5/10\n",
      "157/157 [==============================] - 0s 3ms/step - loss: 2.2979 - accuracy: 0.1158\n",
      "Epoch 6/10\n",
      "157/157 [==============================] - 0s 3ms/step - loss: 2.2975 - accuracy: 0.1212\n",
      "Epoch 7/10\n",
      "157/157 [==============================] - 0s 3ms/step - loss: 2.2936 - accuracy: 0.1281\n",
      "Epoch 8/10\n",
      "157/157 [==============================] - 0s 3ms/step - loss: 2.2900 - accuracy: 0.1322\n",
      "Epoch 9/10\n",
      "157/157 [==============================] - 0s 3ms/step - loss: 2.2842 - accuracy: 0.1356\n",
      "Epoch 10/10\n",
      "157/157 [==============================] - 1s 3ms/step - loss: 2.2791 - accuracy: 0.1377\n"
     ]
    },
    {
     "data": {
      "text/plain": [
       "<keras.src.callbacks.History at 0x7f8860371a90>"
      ]
     },
     "execution_count": 4,
     "metadata": {},
     "output_type": "execute_result"
    }
   ],
   "source": [
    "strategy = tf.distribute.MirroredStrategy()\n",
    "\n",
    "with strategy.scope():\n",
    "    model = create_model()\n",
    "    model.compile(optimizer='adam', loss='sparse_categorical_crossentropy', metrics=['accuracy'])\n",
    "model.fit(X_train, y_train, epochs=10, batch_size=64)"
   ]
  }
 ],
 "metadata": {
  "hide_input": false,
  "kernelspec": {
   "display_name": "Python 3 (ipykernel)",
   "language": "python",
   "name": "python3"
  },
  "language_info": {
   "codemirror_mode": {
    "name": "ipython",
    "version": 3
   },
   "file_extension": ".py",
   "mimetype": "text/x-python",
   "name": "python",
   "nbconvert_exporter": "python",
   "pygments_lexer": "ipython3",
   "version": "3.8.10"
  },
  "nbTranslate": {
   "displayLangs": [
    "*"
   ],
   "hotkey": "alt-t",
   "langInMainMenu": true,
   "sourceLang": "en",
   "targetLang": "fr",
   "useGoogleTranslate": true
  },
  "toc": {
   "base_numbering": 1,
   "nav_menu": {},
   "number_sections": true,
   "sideBar": true,
   "skip_h1_title": false,
   "title_cell": "Table of Contents",
   "title_sidebar": "Contents",
   "toc_cell": false,
   "toc_position": {},
   "toc_section_display": true,
   "toc_window_display": false
  },
  "varInspector": {
   "cols": {
    "lenName": 16,
    "lenType": 16,
    "lenVar": 40
   },
   "kernels_config": {
    "python": {
     "delete_cmd_postfix": "",
     "delete_cmd_prefix": "del ",
     "library": "var_list.py",
     "varRefreshCmd": "print(var_dic_list())"
    },
    "r": {
     "delete_cmd_postfix": ") ",
     "delete_cmd_prefix": "rm(",
     "library": "var_list.r",
     "varRefreshCmd": "cat(var_dic_list()) "
    }
   },
   "types_to_exclude": [
    "module",
    "function",
    "builtin_function_or_method",
    "instance",
    "_Feature"
   ],
   "window_display": false
  }
 },
 "nbformat": 4,
 "nbformat_minor": 5
}
